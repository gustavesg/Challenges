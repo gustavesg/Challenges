{
  "nbformat": 4,
  "nbformat_minor": 0,
  "metadata": {
    "colab": {
      "provenance": [],
      "collapsed_sections": [
        "lvWcF1thzckR",
        "2Ck387Vw_GGb",
        "ZO2lnxqZ5F4E",
        "JmUMDx_sz4AM",
        "NIfBrlI78F55",
        "eWlGdBE2S2PD",
        "JNfMq4mfon3c",
        "5U2M1CKfzrMe",
        "vWiyZAljhUZS",
        "KQIlof0zs-9q"
      ]
    },
    "kernelspec": {
      "name": "python3",
      "display_name": "Python 3"
    },
    "language_info": {
      "name": "python"
    }
  },
  "cells": [
    {
      "cell_type": "markdown",
      "source": [
        "###Data Dictionary"
      ],
      "metadata": {
        "id": "MqI-kTOk-vsf"
      }
    },
    {
      "cell_type": "markdown",
      "source": [
        "* `customerID`: número de identificação único de cada cliente\n",
        "* `Churn`: se o cliente deixou ou não a empresa\n",
        "* `gender`: gênero (masculino ou feminino)\n",
        "* `SeniorCitizen`: informaçãoo sobre um cliente ter ou não idade igual ou maior que 65 anos\n",
        "* `Partner`:  se o cliente possui ou não um parceiro ou parceira\n",
        "* `Dependents`: se o cliente possui ou não dependentes\n",
        "* `tenure`:  meses de contrato do cliente\n",
        "* `PhoneService`: assinatura de serviço telefonico\n",
        "* `MultipleLines`: assinatura de mais de uma linha de telefone\n",
        "* `InternetService`: assinatura de um provedor internet\n",
        "* `OnlineSecurity`: assinatura adicional de segurança online\n",
        "* `OnlineBackup`: assinatura adicional de backup online\n",
        "* `DeviceProtection`: assinatura adicional de proteção no dispositivo\n",
        "* `TechSupport`: assinatura adicional de suporte técnico, menos tempo de espera\n",
        "* `StreamingTV`: assinatura de TV a cabo\n",
        "* `StreamingMovies`: assinatura de streaming de filmes\n",
        "* `Contract`: tipo de contrato\n",
        "* `PaperlessBilling`: se o cliente prefere receber online a fatura\n",
        "* `PaymentMethod`: forma de pagamento\n",
        "* `Charges.Monthly`: total de todos os serviços do cliente por mês\n",
        "* `Charges.Total`: total gasto pelo cliente"
      ],
      "metadata": {
        "id": "5BKAz-uRSMyE"
      }
    },
    {
      "cell_type": "markdown",
      "source": [
        "###Data extraction"
      ],
      "metadata": {
        "id": "vyTvz23U-5M2"
      }
    },
    {
      "cell_type": "code",
      "source": [
        "# import libraries and methods\n",
        "import pandas as pd\n",
        "from urllib.request import urlopen\n",
        "import json\n",
        "import matplotlib.pyplot as plt\n",
        "from scipy import stats\n",
        "import numpy as np\n",
        "from sklearn.preprocessing import StandardScaler\n",
        "import seaborn as sns\n",
        "from imblearn.over_sampling import RandomOverSampler\n",
        "from collections import Counter\n",
        "from scipy.stats import chi2_contingency\n",
        "from sklearn import linear_model\n",
        "from sklearn.dummy import DummyClassifier\n",
        "from sklearn.model_selection import cross_validate\n",
        "from sklearn.model_selection import GridSearchCV\n",
        "from sklearn.model_selection import KFold\n",
        "from sklearn.tree import DecisionTreeClassifier\n",
        "from sklearn.preprocessing import StandardScaler\n",
        "from sklearn.model_selection import train_test_split\n",
        "from sklearn.metrics import accuracy_score\n",
        "from sklearn.naive_bayes import GaussianNB\n",
        "from sklearn.metrics import f1_score\n",
        "from sklearn.metrics import classification_report"
      ],
      "metadata": {
        "id": "Efql-suj3CTa"
      },
      "execution_count": null,
      "outputs": []
    },
    {
      "cell_type": "code",
      "execution_count": null,
      "metadata": {
        "id": "76-QdDeC0Khs"
      },
      "outputs": [],
      "source": [
        "# store the URL in url as & parameter for urlopen\n",
        "url = \"https://challenge-data-science-3ed.s3.amazonaws.com/Telco-Customer-Churn.json\"\n",
        "\n",
        "# store the response of URL\n",
        "response = urlopen(url)\n",
        "\n",
        "# storing the JSON response from url in data\n",
        "data_json = json.loads(response.read())\n",
        "\n",
        "#transform list to df\n",
        "df = pd.DataFrame(data_json)\n",
        "\n",
        "#transform dicts in columns of df\n",
        "new_column_1  = df['phone'].apply(pd.Series)\n",
        "new_column_2  = df['customer'].apply(pd.Series)\n",
        "new_column_3  = df['internet'].apply(pd.Series)\n",
        "new_column_4  = df['account'].apply(pd.Series)\n",
        "\n",
        "#transform dict in Charges column\n",
        "df = pd.concat([df,new_column_1,new_column_2,new_column_3,new_column_4], axis=1)\n",
        "df = pd.concat([df,df['Charges'].apply(pd.Series)], axis=1)\n",
        "\n",
        "#drop old columns\n",
        "df = df.drop(columns = ['phone','customer','internet','account','Charges'])"
      ]
    },
    {
      "cell_type": "code",
      "source": [
        "#view all columns of data\n",
        "pd.set_option('display.max_columns', None)\n",
        "df.head()"
      ],
      "metadata": {
        "colab": {
          "base_uri": "https://localhost:8080/",
          "height": 313
        },
        "id": "ArecMg2oDP27",
        "outputId": "4664f1df-2a2d-4b24-b792-135ee9a286c5"
      },
      "execution_count": null,
      "outputs": [
        {
          "output_type": "execute_result",
          "data": {
            "text/plain": [
              "   customerID Churn PhoneService MultipleLines  gender  SeniorCitizen Partner  \\\n",
              "0  0002-ORFBO    No          Yes            No  Female              0     Yes   \n",
              "1  0003-MKNFE    No          Yes           Yes    Male              0      No   \n",
              "2  0004-TLHLJ   Yes          Yes            No    Male              0      No   \n",
              "3  0011-IGKFF   Yes          Yes            No    Male              1     Yes   \n",
              "4  0013-EXCHZ   Yes          Yes            No  Female              1     Yes   \n",
              "\n",
              "  Dependents  tenure InternetService OnlineSecurity OnlineBackup  \\\n",
              "0        Yes       9             DSL             No          Yes   \n",
              "1         No       9             DSL             No           No   \n",
              "2         No       4     Fiber optic             No           No   \n",
              "3         No      13     Fiber optic             No          Yes   \n",
              "4         No       3     Fiber optic             No           No   \n",
              "\n",
              "  DeviceProtection TechSupport StreamingTV StreamingMovies        Contract  \\\n",
              "0               No         Yes         Yes              No        One year   \n",
              "1               No          No          No             Yes  Month-to-month   \n",
              "2              Yes          No          No              No  Month-to-month   \n",
              "3              Yes          No         Yes             Yes  Month-to-month   \n",
              "4               No         Yes         Yes              No  Month-to-month   \n",
              "\n",
              "  PaperlessBilling     PaymentMethod  Monthly    Total  \n",
              "0              Yes      Mailed check     65.6    593.3  \n",
              "1               No      Mailed check     59.9    542.4  \n",
              "2              Yes  Electronic check     73.9   280.85  \n",
              "3              Yes  Electronic check     98.0  1237.85  \n",
              "4              Yes      Mailed check     83.9    267.4  "
            ],
            "text/html": [
              "\n",
              "  <div id=\"df-fba5830f-aaac-4908-a844-c18e312e0ab8\" class=\"colab-df-container\">\n",
              "    <div>\n",
              "<style scoped>\n",
              "    .dataframe tbody tr th:only-of-type {\n",
              "        vertical-align: middle;\n",
              "    }\n",
              "\n",
              "    .dataframe tbody tr th {\n",
              "        vertical-align: top;\n",
              "    }\n",
              "\n",
              "    .dataframe thead th {\n",
              "        text-align: right;\n",
              "    }\n",
              "</style>\n",
              "<table border=\"1\" class=\"dataframe\">\n",
              "  <thead>\n",
              "    <tr style=\"text-align: right;\">\n",
              "      <th></th>\n",
              "      <th>customerID</th>\n",
              "      <th>Churn</th>\n",
              "      <th>PhoneService</th>\n",
              "      <th>MultipleLines</th>\n",
              "      <th>gender</th>\n",
              "      <th>SeniorCitizen</th>\n",
              "      <th>Partner</th>\n",
              "      <th>Dependents</th>\n",
              "      <th>tenure</th>\n",
              "      <th>InternetService</th>\n",
              "      <th>OnlineSecurity</th>\n",
              "      <th>OnlineBackup</th>\n",
              "      <th>DeviceProtection</th>\n",
              "      <th>TechSupport</th>\n",
              "      <th>StreamingTV</th>\n",
              "      <th>StreamingMovies</th>\n",
              "      <th>Contract</th>\n",
              "      <th>PaperlessBilling</th>\n",
              "      <th>PaymentMethod</th>\n",
              "      <th>Monthly</th>\n",
              "      <th>Total</th>\n",
              "    </tr>\n",
              "  </thead>\n",
              "  <tbody>\n",
              "    <tr>\n",
              "      <th>0</th>\n",
              "      <td>0002-ORFBO</td>\n",
              "      <td>No</td>\n",
              "      <td>Yes</td>\n",
              "      <td>No</td>\n",
              "      <td>Female</td>\n",
              "      <td>0</td>\n",
              "      <td>Yes</td>\n",
              "      <td>Yes</td>\n",
              "      <td>9</td>\n",
              "      <td>DSL</td>\n",
              "      <td>No</td>\n",
              "      <td>Yes</td>\n",
              "      <td>No</td>\n",
              "      <td>Yes</td>\n",
              "      <td>Yes</td>\n",
              "      <td>No</td>\n",
              "      <td>One year</td>\n",
              "      <td>Yes</td>\n",
              "      <td>Mailed check</td>\n",
              "      <td>65.6</td>\n",
              "      <td>593.3</td>\n",
              "    </tr>\n",
              "    <tr>\n",
              "      <th>1</th>\n",
              "      <td>0003-MKNFE</td>\n",
              "      <td>No</td>\n",
              "      <td>Yes</td>\n",
              "      <td>Yes</td>\n",
              "      <td>Male</td>\n",
              "      <td>0</td>\n",
              "      <td>No</td>\n",
              "      <td>No</td>\n",
              "      <td>9</td>\n",
              "      <td>DSL</td>\n",
              "      <td>No</td>\n",
              "      <td>No</td>\n",
              "      <td>No</td>\n",
              "      <td>No</td>\n",
              "      <td>No</td>\n",
              "      <td>Yes</td>\n",
              "      <td>Month-to-month</td>\n",
              "      <td>No</td>\n",
              "      <td>Mailed check</td>\n",
              "      <td>59.9</td>\n",
              "      <td>542.4</td>\n",
              "    </tr>\n",
              "    <tr>\n",
              "      <th>2</th>\n",
              "      <td>0004-TLHLJ</td>\n",
              "      <td>Yes</td>\n",
              "      <td>Yes</td>\n",
              "      <td>No</td>\n",
              "      <td>Male</td>\n",
              "      <td>0</td>\n",
              "      <td>No</td>\n",
              "      <td>No</td>\n",
              "      <td>4</td>\n",
              "      <td>Fiber optic</td>\n",
              "      <td>No</td>\n",
              "      <td>No</td>\n",
              "      <td>Yes</td>\n",
              "      <td>No</td>\n",
              "      <td>No</td>\n",
              "      <td>No</td>\n",
              "      <td>Month-to-month</td>\n",
              "      <td>Yes</td>\n",
              "      <td>Electronic check</td>\n",
              "      <td>73.9</td>\n",
              "      <td>280.85</td>\n",
              "    </tr>\n",
              "    <tr>\n",
              "      <th>3</th>\n",
              "      <td>0011-IGKFF</td>\n",
              "      <td>Yes</td>\n",
              "      <td>Yes</td>\n",
              "      <td>No</td>\n",
              "      <td>Male</td>\n",
              "      <td>1</td>\n",
              "      <td>Yes</td>\n",
              "      <td>No</td>\n",
              "      <td>13</td>\n",
              "      <td>Fiber optic</td>\n",
              "      <td>No</td>\n",
              "      <td>Yes</td>\n",
              "      <td>Yes</td>\n",
              "      <td>No</td>\n",
              "      <td>Yes</td>\n",
              "      <td>Yes</td>\n",
              "      <td>Month-to-month</td>\n",
              "      <td>Yes</td>\n",
              "      <td>Electronic check</td>\n",
              "      <td>98.0</td>\n",
              "      <td>1237.85</td>\n",
              "    </tr>\n",
              "    <tr>\n",
              "      <th>4</th>\n",
              "      <td>0013-EXCHZ</td>\n",
              "      <td>Yes</td>\n",
              "      <td>Yes</td>\n",
              "      <td>No</td>\n",
              "      <td>Female</td>\n",
              "      <td>1</td>\n",
              "      <td>Yes</td>\n",
              "      <td>No</td>\n",
              "      <td>3</td>\n",
              "      <td>Fiber optic</td>\n",
              "      <td>No</td>\n",
              "      <td>No</td>\n",
              "      <td>No</td>\n",
              "      <td>Yes</td>\n",
              "      <td>Yes</td>\n",
              "      <td>No</td>\n",
              "      <td>Month-to-month</td>\n",
              "      <td>Yes</td>\n",
              "      <td>Mailed check</td>\n",
              "      <td>83.9</td>\n",
              "      <td>267.4</td>\n",
              "    </tr>\n",
              "  </tbody>\n",
              "</table>\n",
              "</div>\n",
              "    <div class=\"colab-df-buttons\">\n",
              "\n",
              "  <div class=\"colab-df-container\">\n",
              "    <button class=\"colab-df-convert\" onclick=\"convertToInteractive('df-fba5830f-aaac-4908-a844-c18e312e0ab8')\"\n",
              "            title=\"Convert this dataframe to an interactive table.\"\n",
              "            style=\"display:none;\">\n",
              "\n",
              "  <svg xmlns=\"http://www.w3.org/2000/svg\" height=\"24px\" viewBox=\"0 -960 960 960\">\n",
              "    <path d=\"M120-120v-720h720v720H120Zm60-500h600v-160H180v160Zm220 220h160v-160H400v160Zm0 220h160v-160H400v160ZM180-400h160v-160H180v160Zm440 0h160v-160H620v160ZM180-180h160v-160H180v160Zm440 0h160v-160H620v160Z\"/>\n",
              "  </svg>\n",
              "    </button>\n",
              "\n",
              "  <style>\n",
              "    .colab-df-container {\n",
              "      display:flex;\n",
              "      gap: 12px;\n",
              "    }\n",
              "\n",
              "    .colab-df-convert {\n",
              "      background-color: #E8F0FE;\n",
              "      border: none;\n",
              "      border-radius: 50%;\n",
              "      cursor: pointer;\n",
              "      display: none;\n",
              "      fill: #1967D2;\n",
              "      height: 32px;\n",
              "      padding: 0 0 0 0;\n",
              "      width: 32px;\n",
              "    }\n",
              "\n",
              "    .colab-df-convert:hover {\n",
              "      background-color: #E2EBFA;\n",
              "      box-shadow: 0px 1px 2px rgba(60, 64, 67, 0.3), 0px 1px 3px 1px rgba(60, 64, 67, 0.15);\n",
              "      fill: #174EA6;\n",
              "    }\n",
              "\n",
              "    .colab-df-buttons div {\n",
              "      margin-bottom: 4px;\n",
              "    }\n",
              "\n",
              "    [theme=dark] .colab-df-convert {\n",
              "      background-color: #3B4455;\n",
              "      fill: #D2E3FC;\n",
              "    }\n",
              "\n",
              "    [theme=dark] .colab-df-convert:hover {\n",
              "      background-color: #434B5C;\n",
              "      box-shadow: 0px 1px 3px 1px rgba(0, 0, 0, 0.15);\n",
              "      filter: drop-shadow(0px 1px 2px rgba(0, 0, 0, 0.3));\n",
              "      fill: #FFFFFF;\n",
              "    }\n",
              "  </style>\n",
              "\n",
              "    <script>\n",
              "      const buttonEl =\n",
              "        document.querySelector('#df-fba5830f-aaac-4908-a844-c18e312e0ab8 button.colab-df-convert');\n",
              "      buttonEl.style.display =\n",
              "        google.colab.kernel.accessAllowed ? 'block' : 'none';\n",
              "\n",
              "      async function convertToInteractive(key) {\n",
              "        const element = document.querySelector('#df-fba5830f-aaac-4908-a844-c18e312e0ab8');\n",
              "        const dataTable =\n",
              "          await google.colab.kernel.invokeFunction('convertToInteractive',\n",
              "                                                    [key], {});\n",
              "        if (!dataTable) return;\n",
              "\n",
              "        const docLinkHtml = 'Like what you see? Visit the ' +\n",
              "          '<a target=\"_blank\" href=https://colab.research.google.com/notebooks/data_table.ipynb>data table notebook</a>'\n",
              "          + ' to learn more about interactive tables.';\n",
              "        element.innerHTML = '';\n",
              "        dataTable['output_type'] = 'display_data';\n",
              "        await google.colab.output.renderOutput(dataTable, element);\n",
              "        const docLink = document.createElement('div');\n",
              "        docLink.innerHTML = docLinkHtml;\n",
              "        element.appendChild(docLink);\n",
              "      }\n",
              "    </script>\n",
              "  </div>\n",
              "\n",
              "\n",
              "<div id=\"df-6727a402-67f8-4594-8580-856b3d4a4be5\">\n",
              "  <button class=\"colab-df-quickchart\" onclick=\"quickchart('df-6727a402-67f8-4594-8580-856b3d4a4be5')\"\n",
              "            title=\"Suggest charts.\"\n",
              "            style=\"display:none;\">\n",
              "\n",
              "<svg xmlns=\"http://www.w3.org/2000/svg\" height=\"24px\"viewBox=\"0 0 24 24\"\n",
              "     width=\"24px\">\n",
              "    <g>\n",
              "        <path d=\"M19 3H5c-1.1 0-2 .9-2 2v14c0 1.1.9 2 2 2h14c1.1 0 2-.9 2-2V5c0-1.1-.9-2-2-2zM9 17H7v-7h2v7zm4 0h-2V7h2v10zm4 0h-2v-4h2v4z\"/>\n",
              "    </g>\n",
              "</svg>\n",
              "  </button>\n",
              "\n",
              "<style>\n",
              "  .colab-df-quickchart {\n",
              "      --bg-color: #E8F0FE;\n",
              "      --fill-color: #1967D2;\n",
              "      --hover-bg-color: #E2EBFA;\n",
              "      --hover-fill-color: #174EA6;\n",
              "      --disabled-fill-color: #AAA;\n",
              "      --disabled-bg-color: #DDD;\n",
              "  }\n",
              "\n",
              "  [theme=dark] .colab-df-quickchart {\n",
              "      --bg-color: #3B4455;\n",
              "      --fill-color: #D2E3FC;\n",
              "      --hover-bg-color: #434B5C;\n",
              "      --hover-fill-color: #FFFFFF;\n",
              "      --disabled-bg-color: #3B4455;\n",
              "      --disabled-fill-color: #666;\n",
              "  }\n",
              "\n",
              "  .colab-df-quickchart {\n",
              "    background-color: var(--bg-color);\n",
              "    border: none;\n",
              "    border-radius: 50%;\n",
              "    cursor: pointer;\n",
              "    display: none;\n",
              "    fill: var(--fill-color);\n",
              "    height: 32px;\n",
              "    padding: 0;\n",
              "    width: 32px;\n",
              "  }\n",
              "\n",
              "  .colab-df-quickchart:hover {\n",
              "    background-color: var(--hover-bg-color);\n",
              "    box-shadow: 0 1px 2px rgba(60, 64, 67, 0.3), 0 1px 3px 1px rgba(60, 64, 67, 0.15);\n",
              "    fill: var(--button-hover-fill-color);\n",
              "  }\n",
              "\n",
              "  .colab-df-quickchart-complete:disabled,\n",
              "  .colab-df-quickchart-complete:disabled:hover {\n",
              "    background-color: var(--disabled-bg-color);\n",
              "    fill: var(--disabled-fill-color);\n",
              "    box-shadow: none;\n",
              "  }\n",
              "\n",
              "  .colab-df-spinner {\n",
              "    border: 2px solid var(--fill-color);\n",
              "    border-color: transparent;\n",
              "    border-bottom-color: var(--fill-color);\n",
              "    animation:\n",
              "      spin 1s steps(1) infinite;\n",
              "  }\n",
              "\n",
              "  @keyframes spin {\n",
              "    0% {\n",
              "      border-color: transparent;\n",
              "      border-bottom-color: var(--fill-color);\n",
              "      border-left-color: var(--fill-color);\n",
              "    }\n",
              "    20% {\n",
              "      border-color: transparent;\n",
              "      border-left-color: var(--fill-color);\n",
              "      border-top-color: var(--fill-color);\n",
              "    }\n",
              "    30% {\n",
              "      border-color: transparent;\n",
              "      border-left-color: var(--fill-color);\n",
              "      border-top-color: var(--fill-color);\n",
              "      border-right-color: var(--fill-color);\n",
              "    }\n",
              "    40% {\n",
              "      border-color: transparent;\n",
              "      border-right-color: var(--fill-color);\n",
              "      border-top-color: var(--fill-color);\n",
              "    }\n",
              "    60% {\n",
              "      border-color: transparent;\n",
              "      border-right-color: var(--fill-color);\n",
              "    }\n",
              "    80% {\n",
              "      border-color: transparent;\n",
              "      border-right-color: var(--fill-color);\n",
              "      border-bottom-color: var(--fill-color);\n",
              "    }\n",
              "    90% {\n",
              "      border-color: transparent;\n",
              "      border-bottom-color: var(--fill-color);\n",
              "    }\n",
              "  }\n",
              "</style>\n",
              "\n",
              "  <script>\n",
              "    async function quickchart(key) {\n",
              "      const quickchartButtonEl =\n",
              "        document.querySelector('#' + key + ' button');\n",
              "      quickchartButtonEl.disabled = true;  // To prevent multiple clicks.\n",
              "      quickchartButtonEl.classList.add('colab-df-spinner');\n",
              "      try {\n",
              "        const charts = await google.colab.kernel.invokeFunction(\n",
              "            'suggestCharts', [key], {});\n",
              "      } catch (error) {\n",
              "        console.error('Error during call to suggestCharts:', error);\n",
              "      }\n",
              "      quickchartButtonEl.classList.remove('colab-df-spinner');\n",
              "      quickchartButtonEl.classList.add('colab-df-quickchart-complete');\n",
              "    }\n",
              "    (() => {\n",
              "      let quickchartButtonEl =\n",
              "        document.querySelector('#df-6727a402-67f8-4594-8580-856b3d4a4be5 button');\n",
              "      quickchartButtonEl.style.display =\n",
              "        google.colab.kernel.accessAllowed ? 'block' : 'none';\n",
              "    })();\n",
              "  </script>\n",
              "</div>\n",
              "    </div>\n",
              "  </div>\n"
            ]
          },
          "metadata": {},
          "execution_count": 4
        }
      ]
    },
    {
      "cell_type": "markdown",
      "source": [
        "### Outliers and Null Rows"
      ],
      "metadata": {
        "id": "lvWcF1thzckR"
      }
    },
    {
      "cell_type": "code",
      "source": [
        "# If Exists missing data in churn variable, we will drop this registers\n",
        "df = df[df['Churn'] != '']\n",
        "\n",
        "# Drop registers that no get us information about churn\n",
        "df = df[df['Churn'] != 'No phone service']"
      ],
      "metadata": {
        "id": "pDg7OtlNz7qf"
      },
      "execution_count": null,
      "outputs": []
    },
    {
      "cell_type": "code",
      "source": [
        "# There no outliers values in numeric columns\n",
        "print(df[(np.abs(stats.zscore(df['tenure'])) >= 3)].shape[0])\n",
        "print(df[(np.abs(stats.zscore(df['Monthly'])) >= 3)].shape[0])"
      ],
      "metadata": {
        "colab": {
          "base_uri": "https://localhost:8080/"
        },
        "id": "74qItIfe-Jdm",
        "outputId": "ca2bebb7-34ae-4874-f79d-e4dcd82b1458"
      },
      "execution_count": null,
      "outputs": [
        {
          "output_type": "stream",
          "name": "stdout",
          "text": [
            "0\n",
            "0\n"
          ]
        }
      ]
    },
    {
      "cell_type": "code",
      "source": [
        "#type of columns\n",
        "df.dtypes"
      ],
      "metadata": {
        "colab": {
          "base_uri": "https://localhost:8080/"
        },
        "id": "yCKLVINwkUoM",
        "outputId": "ba77680e-0aea-40d8-a9b3-8a75eb92515a"
      },
      "execution_count": null,
      "outputs": [
        {
          "output_type": "execute_result",
          "data": {
            "text/plain": [
              "customerID           object\n",
              "Churn                object\n",
              "PhoneService         object\n",
              "MultipleLines        object\n",
              "gender               object\n",
              "SeniorCitizen         int64\n",
              "Partner              object\n",
              "Dependents           object\n",
              "tenure                int64\n",
              "InternetService      object\n",
              "OnlineSecurity       object\n",
              "OnlineBackup         object\n",
              "DeviceProtection     object\n",
              "TechSupport          object\n",
              "StreamingTV          object\n",
              "StreamingMovies      object\n",
              "Contract             object\n",
              "PaperlessBilling     object\n",
              "PaymentMethod        object\n",
              "Monthly             float64\n",
              "Total                object\n",
              "dtype: object"
            ]
          },
          "metadata": {},
          "execution_count": 7
        }
      ]
    },
    {
      "cell_type": "markdown",
      "source": [
        "### Box- plots to Numerical Variables"
      ],
      "metadata": {
        "id": "2Ck387Vw_GGb"
      }
    },
    {
      "cell_type": "code",
      "source": [
        "#mean approx. 30 months, high variability\n",
        "df.boxplot(column = 'tenure')\n"
      ],
      "metadata": {
        "colab": {
          "base_uri": "https://localhost:8080/",
          "height": 447
        },
        "id": "oFy-JjF1ID47",
        "outputId": "00b90e8f-19cb-46ff-9f5e-318c68e3df9a"
      },
      "execution_count": null,
      "outputs": [
        {
          "output_type": "execute_result",
          "data": {
            "text/plain": [
              "<Axes: >"
            ]
          },
          "metadata": {},
          "execution_count": 8
        },
        {
          "output_type": "display_data",
          "data": {
            "text/plain": [
              "<Figure size 640x480 with 1 Axes>"
            ],
            "image/png": "[encoded data removed]"
          },
          "metadata": {}
        }
      ]
    },
    {
      "cell_type": "code",
      "source": [
        "#mean approx. 70, high variability too\n",
        "df.boxplot(column = 'Monthly')"
      ],
      "metadata": {
        "colab": {
          "base_uri": "https://localhost:8080/",
          "height": 447
        },
        "id": "yplmDrluItfi",
        "outputId": "f07ca3a6-ced7-4a20-9033-299a04d08231"
      },
      "execution_count": null,
      "outputs": [
        {
          "output_type": "execute_result",
          "data": {
            "text/plain": [
              "<Axes: >"
            ]
          },
          "metadata": {},
          "execution_count": 9
        },
        {
          "output_type": "display_data",
          "data": {
            "text/plain": [
              "<Figure size 640x480 with 1 Axes>"
            ],
            "image/png": "[encoded data removed]"
          },
          "metadata": {}
        }
      ]
    },
    {
      "cell_type": "markdown",
      "source": [
        "###Insights"
      ],
      "metadata": {
        "id": "ZO2lnxqZ5F4E"
      }
    },
    {
      "cell_type": "code",
      "source": [
        "display(df[df['Churn'] == 'Yes'][['SeniorCitizen','tenure','Monthly']].describe())\n",
        "display(df[df['Churn'] == 'No'][['SeniorCitizen','tenure','Monthly']].describe())\n",
        "# Evidence that exists SeniorCitizen's influence in churn: more Seniors implies a NO CHURN\n",
        "# Monthly: greater mean in CHURN"
      ],
      "metadata": {
        "colab": {
          "base_uri": "https://localhost:8080/",
          "height": 583
        },
        "id": "8O8KXW3jfgtP",
        "outputId": "5c067363-a801-4dd5-c807-ee141ec5bc31"
      },
      "execution_count": null,
      "outputs": [
        {
          "output_type": "display_data",
          "data": {
            "text/plain": [
              "       SeniorCitizen       tenure      Monthly\n",
              "count    1869.000000  1869.000000  1869.000000\n",
              "mean        0.254682    17.979133    74.441332\n",
              "std         0.435799    19.531123    24.666053\n",
              "min         0.000000     1.000000    18.850000\n",
              "25%         0.000000     2.000000    56.150000\n",
              "50%         0.000000    10.000000    79.650000\n",
              "75%         1.000000    29.000000    94.200000\n",
              "max         1.000000    72.000000   118.350000"
            ],
            "text/html": [
              "\n",
              "  <div id=\"df-78d74eb8-6dcb-4588-83a9-668a2f8033df\" class=\"colab-df-container\">\n",
              "    <div>\n",
              "<style scoped>\n",
              "    .dataframe tbody tr th:only-of-type {\n",
              "        vertical-align: middle;\n",
              "    }\n",
              "\n",
              "    .dataframe tbody tr th {\n",
              "        vertical-align: top;\n",
              "    }\n",
              "\n",
              "    .dataframe thead th {\n",
              "        text-align: right;\n",
              "    }\n",
              "</style>\n",
              "<table border=\"1\" class=\"dataframe\">\n",
              "  <thead>\n",
              "    <tr style=\"text-align: right;\">\n",
              "      <th></th>\n",
              "      <th>SeniorCitizen</th>\n",
              "      <th>tenure</th>\n",
              "      <th>Monthly</th>\n",
              "    </tr>\n",
              "  </thead>\n",
              "  <tbody>\n",
              "    <tr>\n",
              "      <th>count</th>\n",
              "      <td>1869.000000</td>\n",
              "      <td>1869.000000</td>\n",
              "      <td>1869.000000</td>\n",
              "    </tr>\n",
              "    <tr>\n",
              "      <th>mean</th>\n",
              "      <td>0.254682</td>\n",
              "      <td>17.979133</td>\n",
              "      <td>74.441332</td>\n",
              "    </tr>\n",
              "    <tr>\n",
              "      <th>std</th>\n",
              "      <td>0.435799</td>\n",
              "      <td>19.531123</td>\n",
              "      <td>24.666053</td>\n",
              "    </tr>\n",
              "    <tr>\n",
              "      <th>min</th>\n",
              "      <td>0.000000</td>\n",
              "      <td>1.000000</td>\n",
              "      <td>18.850000</td>\n",
              "    </tr>\n",
              "    <tr>\n",
              "      <th>25%</th>\n",
              "      <td>0.000000</td>\n",
              "      <td>2.000000</td>\n",
              "      <td>56.150000</td>\n",
              "    </tr>\n",
              "    <tr>\n",
              "      <th>50%</th>\n",
              "      <td>0.000000</td>\n",
              "      <td>10.000000</td>\n",
              "      <td>79.650000</td>\n",
              "    </tr>\n",
              "    <tr>\n",
              "      <th>75%</th>\n",
              "      <td>1.000000</td>\n",
              "      <td>29.000000</td>\n",
              "      <td>94.200000</td>\n",
              "    </tr>\n",
              "    <tr>\n",
              "      <th>max</th>\n",
              "      <td>1.000000</td>\n",
              "      <td>72.000000</td>\n",
              "      <td>118.350000</td>\n",
              "    </tr>\n",
              "  </tbody>\n",
              "</table>\n",
              "</div>\n",
              "    <div class=\"colab-df-buttons\">\n",
              "\n",
              "  <div class=\"colab-df-container\">\n",
              "    <button class=\"colab-df-convert\" onclick=\"convertToInteractive('df-78d74eb8-6dcb-4588-83a9-668a2f8033df')\"\n",
              "            title=\"Convert this dataframe to an interactive table.\"\n",
              "            style=\"display:none;\">\n",
              "\n",
              "  <svg xmlns=\"http://www.w3.org/2000/svg\" height=\"24px\" viewBox=\"0 -960 960 960\">\n",
              "    <path d=\"M120-120v-720h720v720H120Zm60-500h600v-160H180v160Zm220 220h160v-160H400v160Zm0 220h160v-160H400v160ZM180-400h160v-160H180v160Zm440 0h160v-160H620v160ZM180-180h160v-160H180v160Zm440 0h160v-160H620v160Z\"/>\n",
              "  </svg>\n",
              "    </button>\n",
              "\n",
              "  <style>\n",
              "    .colab-df-container {\n",
              "      display:flex;\n",
              "      gap: 12px;\n",
              "    }\n",
              "\n",
              "    .colab-df-convert {\n",
              "      background-color: #E8F0FE;\n",
              "      border: none;\n",
              "      border-radius: 50%;\n",
              "      cursor: pointer;\n",
              "      display: none;\n",
              "      fill: #1967D2;\n",
              "      height: 32px;\n",
              "      padding: 0 0 0 0;\n",
              "      width: 32px;\n",
              "    }\n",
              "\n",
              "    .colab-df-convert:hover {\n",
              "      background-color: #E2EBFA;\n",
              "      box-shadow: 0px 1px 2px rgba(60, 64, 67, 0.3), 0px 1px 3px 1px rgba(60, 64, 67, 0.15);\n",
              "      fill: #174EA6;\n",
              "    }\n",
              "\n",
              "    .colab-df-buttons div {\n",
              "      margin-bottom: 4px;\n",
              "    }\n",
              "\n",
              "    [theme=dark] .colab-df-convert {\n",
              "      background-color: #3B4455;\n",
              "      fill: #D2E3FC;\n",
              "    }\n",
              "\n",
              "    [theme=dark] .colab-df-convert:hover {\n",
              "      background-color: #434B5C;\n",
              "      box-shadow: 0px 1px 3px 1px rgba(0, 0, 0, 0.15);\n",
              "      filter: drop-shadow(0px 1px 2px rgba(0, 0, 0, 0.3));\n",
              "      fill: #FFFFFF;\n",
              "    }\n",
              "  </style>\n",
              "\n",
              "    <script>\n",
              "      const buttonEl =\n",
              "        document.querySelector('#df-78d74eb8-6dcb-4588-83a9-668a2f8033df button.colab-df-convert');\n",
              "      buttonEl.style.display =\n",
              "        google.colab.kernel.accessAllowed ? 'block' : 'none';\n",
              "\n",
              "      async function convertToInteractive(key) {\n",
              "        const element = document.querySelector('#df-78d74eb8-6dcb-4588-83a9-668a2f8033df');\n",
              "        const dataTable =\n",
              "          await google.colab.kernel.invokeFunction('convertToInteractive',\n",
              "                                                    [key], {});\n",
              "        if (!dataTable) return;\n",
              "\n",
              "        const docLinkHtml = 'Like what you see? Visit the ' +\n",
              "          '<a target=\"_blank\" href=https://colab.research.google.com/notebooks/data_table.ipynb>data table notebook</a>'\n",
              "          + ' to learn more about interactive tables.';\n",
              "        element.innerHTML = '';\n",
              "        dataTable['output_type'] = 'display_data';\n",
              "        await google.colab.output.renderOutput(dataTable, element);\n",
              "        const docLink = document.createElement('div');\n",
              "        docLink.innerHTML = docLinkHtml;\n",
              "        element.appendChild(docLink);\n",
              "      }\n",
              "    </script>\n",
              "  </div>\n",
              "\n",
              "\n",
              "<div id=\"df-c4452cdd-64c4-4bc7-b7b0-229a13c94dd9\">\n",
              "  <button class=\"colab-df-quickchart\" onclick=\"quickchart('df-c4452cdd-64c4-4bc7-b7b0-229a13c94dd9')\"\n",
              "            title=\"Suggest charts.\"\n",
              "            style=\"display:none;\">\n",
              "\n",
              "<svg xmlns=\"http://www.w3.org/2000/svg\" height=\"24px\"viewBox=\"0 0 24 24\"\n",
              "     width=\"24px\">\n",
              "    <g>\n",
              "        <path d=\"M19 3H5c-1.1 0-2 .9-2 2v14c0 1.1.9 2 2 2h14c1.1 0 2-.9 2-2V5c0-1.1-.9-2-2-2zM9 17H7v-7h2v7zm4 0h-2V7h2v10zm4 0h-2v-4h2v4z\"/>\n",
              "    </g>\n",
              "</svg>\n",
              "  </button>\n",
              "\n",
              "<style>\n",
              "  .colab-df-quickchart {\n",
              "      --bg-color: #E8F0FE;\n",
              "      --fill-color: #1967D2;\n",
              "      --hover-bg-color: #E2EBFA;\n",
              "      --hover-fill-color: #174EA6;\n",
              "      --disabled-fill-color: #AAA;\n",
              "      --disabled-bg-color: #DDD;\n",
              "  }\n",
              "\n",
              "  [theme=dark] .colab-df-quickchart {\n",
              "      --bg-color: #3B4455;\n",
              "      --fill-color: #D2E3FC;\n",
              "      --hover-bg-color: #434B5C;\n",
              "      --hover-fill-color: #FFFFFF;\n",
              "      --disabled-bg-color: #3B4455;\n",
              "      --disabled-fill-color: #666;\n",
              "  }\n",
              "\n",
              "  .colab-df-quickchart {\n",
              "    background-color: var(--bg-color);\n",
              "    border: none;\n",
              "    border-radius: 50%;\n",
              "    cursor: pointer;\n",
              "    display: none;\n",
              "    fill: var(--fill-color);\n",
              "    height: 32px;\n",
              "    padding: 0;\n",
              "    width: 32px;\n",
              "  }\n",
              "\n",
              "  .colab-df-quickchart:hover {\n",
              "    background-color: var(--hover-bg-color);\n",
              "    box-shadow: 0 1px 2px rgba(60, 64, 67, 0.3), 0 1px 3px 1px rgba(60, 64, 67, 0.15);\n",
              "    fill: var(--button-hover-fill-color);\n",
              "  }\n",
              "\n",
              "  .colab-df-quickchart-complete:disabled,\n",
              "  .colab-df-quickchart-complete:disabled:hover {\n",
              "    background-color: var(--disabled-bg-color);\n",
              "    fill: var(--disabled-fill-color);\n",
              "    box-shadow: none;\n",
              "  }\n",
              "\n",
              "  .colab-df-spinner {\n",
              "    border: 2px solid var(--fill-color);\n",
              "    border-color: transparent;\n",
              "    border-bottom-color: var(--fill-color);\n",
              "    animation:\n",
              "      spin 1s steps(1) infinite;\n",
              "  }\n",
              "\n",
              "  @keyframes spin {\n",
              "    0% {\n",
              "      border-color: transparent;\n",
              "      border-bottom-color: var(--fill-color);\n",
              "      border-left-color: var(--fill-color);\n",
              "    }\n",
              "    20% {\n",
              "      border-color: transparent;\n",
              "      border-left-color: var(--fill-color);\n",
              "      border-top-color: var(--fill-color);\n",
              "    }\n",
              "    30% {\n",
              "      border-color: transparent;\n",
              "      border-left-color: var(--fill-color);\n",
              "      border-top-color: var(--fill-color);\n",
              "      border-right-color: var(--fill-color);\n",
              "    }\n",
              "    40% {\n",
              "      border-color: transparent;\n",
              "      border-right-color: var(--fill-color);\n",
              "      border-top-color: var(--fill-color);\n",
              "    }\n",
              "    60% {\n",
              "      border-color: transparent;\n",
              "      border-right-color: var(--fill-color);\n",
              "    }\n",
              "    80% {\n",
              "      border-color: transparent;\n",
              "      border-right-color: var(--fill-color);\n",
              "      border-bottom-color: var(--fill-color);\n",
              "    }\n",
              "    90% {\n",
              "      border-color: transparent;\n",
              "      border-bottom-color: var(--fill-color);\n",
              "    }\n",
              "  }\n",
              "</style>\n",
              "\n",
              "  <script>\n",
              "    async function quickchart(key) {\n",
              "      const quickchartButtonEl =\n",
              "        document.querySelector('#' + key + ' button');\n",
              "      quickchartButtonEl.disabled = true;  // To prevent multiple clicks.\n",
              "      quickchartButtonEl.classList.add('colab-df-spinner');\n",
              "      try {\n",
              "        const charts = await google.colab.kernel.invokeFunction(\n",
              "            'suggestCharts', [key], {});\n",
              "      } catch (error) {\n",
              "        console.error('Error during call to suggestCharts:', error);\n",
              "      }\n",
              "      quickchartButtonEl.classList.remove('colab-df-spinner');\n",
              "      quickchartButtonEl.classList.add('colab-df-quickchart-complete');\n",
              "    }\n",
              "    (() => {\n",
              "      let quickchartButtonEl =\n",
              "        document.querySelector('#df-c4452cdd-64c4-4bc7-b7b0-229a13c94dd9 button');\n",
              "      quickchartButtonEl.style.display =\n",
              "        google.colab.kernel.accessAllowed ? 'block' : 'none';\n",
              "    })();\n",
              "  </script>\n",
              "</div>\n",
              "    </div>\n",
              "  </div>\n"
            ]
          },
          "metadata": {}
        },
        {
          "output_type": "display_data",
          "data": {
            "text/plain": [
              "       SeniorCitizen       tenure      Monthly\n",
              "count    5174.000000  5174.000000  5174.000000\n",
              "mean        0.128721    37.569965    61.265124\n",
              "std         0.334923    24.113777    31.092648\n",
              "min         0.000000     0.000000    18.250000\n",
              "25%         0.000000    15.000000    25.100000\n",
              "50%         0.000000    38.000000    64.425000\n",
              "75%         0.000000    61.000000    88.400000\n",
              "max         1.000000    72.000000   118.750000"
            ],
            "text/html": [
              "\n",
              "  <div id=\"df-cce57c94-23a5-4636-96b8-dcfac553d7c6\" class=\"colab-df-container\">\n",
              "    <div>\n",
              "<style scoped>\n",
              "    .dataframe tbody tr th:only-of-type {\n",
              "        vertical-align: middle;\n",
              "    }\n",
              "\n",
              "    .dataframe tbody tr th {\n",
              "        vertical-align: top;\n",
              "    }\n",
              "\n",
              "    .dataframe thead th {\n",
              "        text-align: right;\n",
              "    }\n",
              "</style>\n",
              "<table border=\"1\" class=\"dataframe\">\n",
              "  <thead>\n",
              "    <tr style=\"text-align: right;\">\n",
              "      <th></th>\n",
              "      <th>SeniorCitizen</th>\n",
              "      <th>tenure</th>\n",
              "      <th>Monthly</th>\n",
              "    </tr>\n",
              "  </thead>\n",
              "  <tbody>\n",
              "    <tr>\n",
              "      <th>count</th>\n",
              "      <td>5174.000000</td>\n",
              "      <td>5174.000000</td>\n",
              "      <td>5174.000000</td>\n",
              "    </tr>\n",
              "    <tr>\n",
              "      <th>mean</th>\n",
              "      <td>0.128721</td>\n",
              "      <td>37.569965</td>\n",
              "      <td>61.265124</td>\n",
              "    </tr>\n",
              "    <tr>\n",
              "      <th>std</th>\n",
              "      <td>0.334923</td>\n",
              "      <td>24.113777</td>\n",
              "      <td>31.092648</td>\n",
              "    </tr>\n",
              "    <tr>\n",
              "      <th>min</th>\n",
              "      <td>0.000000</td>\n",
              "      <td>0.000000</td>\n",
              "      <td>18.250000</td>\n",
              "    </tr>\n",
              "    <tr>\n",
              "      <th>25%</th>\n",
              "      <td>0.000000</td>\n",
              "      <td>15.000000</td>\n",
              "      <td>25.100000</td>\n",
              "    </tr>\n",
              "    <tr>\n",
              "      <th>50%</th>\n",
              "      <td>0.000000</td>\n",
              "      <td>38.000000</td>\n",
              "      <td>64.425000</td>\n",
              "    </tr>\n",
              "    <tr>\n",
              "      <th>75%</th>\n",
              "      <td>0.000000</td>\n",
              "      <td>61.000000</td>\n",
              "      <td>88.400000</td>\n",
              "    </tr>\n",
              "    <tr>\n",
              "      <th>max</th>\n",
              "      <td>1.000000</td>\n",
              "      <td>72.000000</td>\n",
              "      <td>118.750000</td>\n",
              "    </tr>\n",
              "  </tbody>\n",
              "</table>\n",
              "</div>\n",
              "    <div class=\"colab-df-buttons\">\n",
              "\n",
              "  <div class=\"colab-df-container\">\n",
              "    <button class=\"colab-df-convert\" onclick=\"convertToInteractive('df-cce57c94-23a5-4636-96b8-dcfac553d7c6')\"\n",
              "            title=\"Convert this dataframe to an interactive table.\"\n",
              "            style=\"display:none;\">\n",
              "\n",
              "  <svg xmlns=\"http://www.w3.org/2000/svg\" height=\"24px\" viewBox=\"0 -960 960 960\">\n",
              "    <path d=\"M120-120v-720h720v720H120Zm60-500h600v-160H180v160Zm220 220h160v-160H400v160Zm0 220h160v-160H400v160ZM180-400h160v-160H180v160Zm440 0h160v-160H620v160ZM180-180h160v-160H180v160Zm440 0h160v-160H620v160Z\"/>\n",
              "  </svg>\n",
              "    </button>\n",
              "\n",
              "  <style>\n",
              "    .colab-df-container {\n",
              "      display:flex;\n",
              "      gap: 12px;\n",
              "    }\n",
              "\n",
              "    .colab-df-convert {\n",
              "      background-color: #E8F0FE;\n",
              "      border: none;\n",
              "      border-radius: 50%;\n",
              "      cursor: pointer;\n",
              "      display: none;\n",
              "      fill: #1967D2;\n",
              "      height: 32px;\n",
              "      padding: 0 0 0 0;\n",
              "      width: 32px;\n",
              "    }\n",
              "\n",
              "    .colab-df-convert:hover {\n",
              "      background-color: #E2EBFA;\n",
              "      box-shadow: 0px 1px 2px rgba(60, 64, 67, 0.3), 0px 1px 3px 1px rgba(60, 64, 67, 0.15);\n",
              "      fill: #174EA6;\n",
              "    }\n",
              "\n",
              "    .colab-df-buttons div {\n",
              "      margin-bottom: 4px;\n",
              "    }\n",
              "\n",
              "    [theme=dark] .colab-df-convert {\n",
              "      background-color: #3B4455;\n",
              "      fill: #D2E3FC;\n",
              "    }\n",
              "\n",
              "    [theme=dark] .colab-df-convert:hover {\n",
              "      background-color: #434B5C;\n",
              "      box-shadow: 0px 1px 3px 1px rgba(0, 0, 0, 0.15);\n",
              "      filter: drop-shadow(0px 1px 2px rgba(0, 0, 0, 0.3));\n",
              "      fill: #FFFFFF;\n",
              "    }\n",
              "  </style>\n",
              "\n",
              "    <script>\n",
              "      const buttonEl =\n",
              "        document.querySelector('#df-cce57c94-23a5-4636-96b8-dcfac553d7c6 button.colab-df-convert');\n",
              "      buttonEl.style.display =\n",
              "        google.colab.kernel.accessAllowed ? 'block' : 'none';\n",
              "\n",
              "      async function convertToInteractive(key) {\n",
              "        const element = document.querySelector('#df-cce57c94-23a5-4636-96b8-dcfac553d7c6');\n",
              "        const dataTable =\n",
              "          await google.colab.kernel.invokeFunction('convertToInteractive',\n",
              "                                                    [key], {});\n",
              "        if (!dataTable) return;\n",
              "\n",
              "        const docLinkHtml = 'Like what you see? Visit the ' +\n",
              "          '<a target=\"_blank\" href=https://colab.research.google.com/notebooks/data_table.ipynb>data table notebook</a>'\n",
              "          + ' to learn more about interactive tables.';\n",
              "        element.innerHTML = '';\n",
              "        dataTable['output_type'] = 'display_data';\n",
              "        await google.colab.output.renderOutput(dataTable, element);\n",
              "        const docLink = document.createElement('div');\n",
              "        docLink.innerHTML = docLinkHtml;\n",
              "        element.appendChild(docLink);\n",
              "      }\n",
              "    </script>\n",
              "  </div>\n",
              "\n",
              "\n",
              "<div id=\"df-a6fc455b-f0f9-4e47-8509-e35dd080cd38\">\n",
              "  <button class=\"colab-df-quickchart\" onclick=\"quickchart('df-a6fc455b-f0f9-4e47-8509-e35dd080cd38')\"\n",
              "            title=\"Suggest charts.\"\n",
              "            style=\"display:none;\">\n",
              "\n",
              "<svg xmlns=\"http://www.w3.org/2000/svg\" height=\"24px\"viewBox=\"0 0 24 24\"\n",
              "     width=\"24px\">\n",
              "    <g>\n",
              "        <path d=\"M19 3H5c-1.1 0-2 .9-2 2v14c0 1.1.9 2 2 2h14c1.1 0 2-.9 2-2V5c0-1.1-.9-2-2-2zM9 17H7v-7h2v7zm4 0h-2V7h2v10zm4 0h-2v-4h2v4z\"/>\n",
              "    </g>\n",
              "</svg>\n",
              "  </button>\n",
              "\n",
              "<style>\n",
              "  .colab-df-quickchart {\n",
              "      --bg-color: #E8F0FE;\n",
              "      --fill-color: #1967D2;\n",
              "      --hover-bg-color: #E2EBFA;\n",
              "      --hover-fill-color: #174EA6;\n",
              "      --disabled-fill-color: #AAA;\n",
              "      --disabled-bg-color: #DDD;\n",
              "  }\n",
              "\n",
              "  [theme=dark] .colab-df-quickchart {\n",
              "      --bg-color: #3B4455;\n",
              "      --fill-color: #D2E3FC;\n",
              "      --hover-bg-color: #434B5C;\n",
              "      --hover-fill-color: #FFFFFF;\n",
              "      --disabled-bg-color: #3B4455;\n",
              "      --disabled-fill-color: #666;\n",
              "  }\n",
              "\n",
              "  .colab-df-quickchart {\n",
              "    background-color: var(--bg-color);\n",
              "    border: none;\n",
              "    border-radius: 50%;\n",
              "    cursor: pointer;\n",
              "    display: none;\n",
              "    fill: var(--fill-color);\n",
              "    height: 32px;\n",
              "    padding: 0;\n",
              "    width: 32px;\n",
              "  }\n",
              "\n",
              "  .colab-df-quickchart:hover {\n",
              "    background-color: var(--hover-bg-color);\n",
              "    box-shadow: 0 1px 2px rgba(60, 64, 67, 0.3), 0 1px 3px 1px rgba(60, 64, 67, 0.15);\n",
              "    fill: var(--button-hover-fill-color);\n",
              "  }\n",
              "\n",
              "  .colab-df-quickchart-complete:disabled,\n",
              "  .colab-df-quickchart-complete:disabled:hover {\n",
              "    background-color: var(--disabled-bg-color);\n",
              "    fill: var(--disabled-fill-color);\n",
              "    box-shadow: none;\n",
              "  }\n",
              "\n",
              "  .colab-df-spinner {\n",
              "    border: 2px solid var(--fill-color);\n",
              "    border-color: transparent;\n",
              "    border-bottom-color: var(--fill-color);\n",
              "    animation:\n",
              "      spin 1s steps(1) infinite;\n",
              "  }\n",
              "\n",
              "  @keyframes spin {\n",
              "    0% {\n",
              "      border-color: transparent;\n",
              "      border-bottom-color: var(--fill-color);\n",
              "      border-left-color: var(--fill-color);\n",
              "    }\n",
              "    20% {\n",
              "      border-color: transparent;\n",
              "      border-left-color: var(--fill-color);\n",
              "      border-top-color: var(--fill-color);\n",
              "    }\n",
              "    30% {\n",
              "      border-color: transparent;\n",
              "      border-left-color: var(--fill-color);\n",
              "      border-top-color: var(--fill-color);\n",
              "      border-right-color: var(--fill-color);\n",
              "    }\n",
              "    40% {\n",
              "      border-color: transparent;\n",
              "      border-right-color: var(--fill-color);\n",
              "      border-top-color: var(--fill-color);\n",
              "    }\n",
              "    60% {\n",
              "      border-color: transparent;\n",
              "      border-right-color: var(--fill-color);\n",
              "    }\n",
              "    80% {\n",
              "      border-color: transparent;\n",
              "      border-right-color: var(--fill-color);\n",
              "      border-bottom-color: var(--fill-color);\n",
              "    }\n",
              "    90% {\n",
              "      border-color: transparent;\n",
              "      border-bottom-color: var(--fill-color);\n",
              "    }\n",
              "  }\n",
              "</style>\n",
              "\n",
              "  <script>\n",
              "    async function quickchart(key) {\n",
              "      const quickchartButtonEl =\n",
              "        document.querySelector('#' + key + ' button');\n",
              "      quickchartButtonEl.disabled = true;  // To prevent multiple clicks.\n",
              "      quickchartButtonEl.classList.add('colab-df-spinner');\n",
              "      try {\n",
              "        const charts = await google.colab.kernel.invokeFunction(\n",
              "            'suggestCharts', [key], {});\n",
              "      } catch (error) {\n",
              "        console.error('Error during call to suggestCharts:', error);\n",
              "      }\n",
              "      quickchartButtonEl.classList.remove('colab-df-spinner');\n",
              "      quickchartButtonEl.classList.add('colab-df-quickchart-complete');\n",
              "    }\n",
              "    (() => {\n",
              "      let quickchartButtonEl =\n",
              "        document.querySelector('#df-a6fc455b-f0f9-4e47-8509-e35dd080cd38 button');\n",
              "      quickchartButtonEl.style.display =\n",
              "        google.colab.kernel.accessAllowed ? 'block' : 'none';\n",
              "    })();\n",
              "  </script>\n",
              "</div>\n",
              "    </div>\n",
              "  </div>\n"
            ]
          },
          "metadata": {}
        }
      ]
    },
    {
      "cell_type": "code",
      "source": [
        "display(df[df['Churn'] == 'No']['PhoneService'].value_counts(normalize=True) * 100)\n",
        "display(df[df['Churn'] == 'Yes']['PhoneService'].value_counts(normalize=True) * 100)\n",
        "# No evidence that PhoneService has influence in Churn"
      ],
      "metadata": {
        "colab": {
          "base_uri": "https://localhost:8080/",
          "height": 121
        },
        "id": "xuQggpqn4hab",
        "outputId": "096d524a-464c-43f9-a1b6-0234a0f2f2aa"
      },
      "execution_count": null,
      "outputs": [
        {
          "output_type": "display_data",
          "data": {
            "text/plain": [
              "Yes    90.104368\n",
              "No      9.895632\n",
              "Name: PhoneService, dtype: float64"
            ]
          },
          "metadata": {}
        },
        {
          "output_type": "display_data",
          "data": {
            "text/plain": [
              "Yes    90.904227\n",
              "No      9.095773\n",
              "Name: PhoneService, dtype: float64"
            ]
          },
          "metadata": {}
        }
      ]
    },
    {
      "cell_type": "code",
      "source": [
        "df[df['Churn'] == 'Yes']['tenure'].value_counts(normalize = True).plot(kind = 'bar')\n",
        "plt.xticks(fontsize=5)\n",
        "plt.show()\n",
        "# Greatest churn index in five first months of contract"
      ],
      "metadata": {
        "colab": {
          "base_uri": "https://localhost:8080/",
          "height": 425
        },
        "id": "7A0tpWgA6ed1",
        "outputId": "038daf53-2194-4a50-e068-d84073e232f2"
      },
      "execution_count": null,
      "outputs": [
        {
          "output_type": "display_data",
          "data": {
            "text/plain": [
              "<Figure size 640x480 with 1 Axes>"
            ],
            "image/png": "[encoded data removed]"
          },
          "metadata": {}
        }
      ]
    },
    {
      "cell_type": "code",
      "source": [
        "display(df[df['Churn'] == 'Yes']['PaymentMethod'].value_counts(normalize = True))\n",
        "display(df[df['Churn'] == 'No']['PaymentMethod'].value_counts(normalize = True))\n",
        "\n",
        "#Evidence: people had pays with electronic check has more churn, it's necessary investigate this payment method."
      ],
      "metadata": {
        "colab": {
          "base_uri": "https://localhost:8080/",
          "height": 191
        },
        "id": "F8pPSQ2wOyOa",
        "outputId": "1fdc1283-fd5a-46f4-898f-5eafe5086ebe"
      },
      "execution_count": null,
      "outputs": [
        {
          "output_type": "display_data",
          "data": {
            "text/plain": [
              "Electronic check             0.573034\n",
              "Mailed check                 0.164794\n",
              "Bank transfer (automatic)    0.138042\n",
              "Credit card (automatic)      0.124131\n",
              "Name: PaymentMethod, dtype: float64"
            ]
          },
          "metadata": {}
        },
        {
          "output_type": "display_data",
          "data": {
            "text/plain": [
              "Mailed check                 0.252029\n",
              "Electronic check             0.250097\n",
              "Credit card (automatic)      0.249324\n",
              "Bank transfer (automatic)    0.248550\n",
              "Name: PaymentMethod, dtype: float64"
            ]
          },
          "metadata": {}
        }
      ]
    },
    {
      "cell_type": "code",
      "source": [
        "(df[df['Churn'] == 'No']['gender'].value_counts(normalize=True)*100).plot(kind = 'bar',title = 'Sexo dos Clientes que estão na Novexus')\n"
      ],
      "metadata": {
        "colab": {
          "base_uri": "https://localhost:8080/",
          "height": 505
        },
        "id": "oVqW_IMn9p6h",
        "outputId": "5579506c-f608-40a7-938d-92171dc50773"
      },
      "execution_count": null,
      "outputs": [
        {
          "output_type": "execute_result",
          "data": {
            "text/plain": [
              "<Axes: title={'center': 'Sexo dos Clientes que estão na Novexus'}>"
            ]
          },
          "metadata": {},
          "execution_count": 14
        },
        {
          "output_type": "display_data",
          "data": {
            "text/plain": [
              "<Figure size 640x480 with 1 Axes>"
            ],
            "image/png": "[encoded data removed]"
          },
          "metadata": {}
        }
      ]
    },
    {
      "cell_type": "code",
      "source": [
        "(df[df['Churn'] == 'Yes']['gender'].value_counts(normalize=True)*100).plot(kind = 'bar',title = 'Sexo dos Clientes que abandonaram a Novexus')\n"
      ],
      "metadata": {
        "colab": {
          "base_uri": "https://localhost:8080/",
          "height": 505
        },
        "id": "yTfnb_p5_lww",
        "outputId": "ad1d38e3-3846-4528-b90e-01f20b85a053"
      },
      "execution_count": null,
      "outputs": [
        {
          "output_type": "execute_result",
          "data": {
            "text/plain": [
              "<Axes: title={'center': 'Sexo dos Clientes que abandonaram a Novexus'}>"
            ]
          },
          "metadata": {},
          "execution_count": 15
        },
        {
          "output_type": "display_data",
          "data": {
            "text/plain": [
              "<Figure size 640x480 with 1 Axes>"
            ],
            "image/png": "[encoded data removed]"
          },
          "metadata": {}
        }
      ]
    },
    {
      "cell_type": "code",
      "source": [
        "(df[df['Churn'] == 'No']['InternetService'].value_counts(normalize=True)*100).plot(kind = 'bar',title = 'Internet dos Clientes que estão na Novexus')\n"
      ],
      "metadata": {
        "colab": {
          "base_uri": "https://localhost:8080/",
          "height": 528
        },
        "id": "QmkIJ5KW_luA",
        "outputId": "989f8d4f-36fc-4c4a-d6c7-9b59f4ddd440"
      },
      "execution_count": null,
      "outputs": [
        {
          "output_type": "execute_result",
          "data": {
            "text/plain": [
              "<Axes: title={'center': 'Internet dos Clientes que estão na Novexus'}>"
            ]
          },
          "metadata": {},
          "execution_count": 16
        },
        {
          "output_type": "display_data",
          "data": {
            "text/plain": [
              "<Figure size 640x480 with 1 Axes>"
            ],
            "image/png": "[encoded data removed]"
          },
          "metadata": {}
        }
      ]
    },
    {
      "cell_type": "code",
      "source": [
        "(df[df['Churn'] == 'Yes']['InternetService'].value_counts(normalize=True)*100).plot(kind = 'bar',title = 'Internet dos Clientes que abandonaram na Novexus')\n",
        "#Possible relationship with churn: internet type of fiber optic"
      ],
      "metadata": {
        "colab": {
          "base_uri": "https://localhost:8080/",
          "height": 528
        },
        "id": "MiJd9ExnAUqD",
        "outputId": "156c3c72-3eb5-4034-f51e-b5569222caf4"
      },
      "execution_count": null,
      "outputs": [
        {
          "output_type": "execute_result",
          "data": {
            "text/plain": [
              "<Axes: title={'center': 'Internet dos Clientes que abandonaram na Novexus'}>"
            ]
          },
          "metadata": {},
          "execution_count": 17
        },
        {
          "output_type": "display_data",
          "data": {
            "text/plain": [
              "<Figure size 640x480 with 1 Axes>"
            ],
            "image/png": "[encoded data removed]"
          },
          "metadata": {}
        }
      ]
    },
    {
      "cell_type": "code",
      "source": [
        "(df[df['Churn'] == 'No']['OnlineSecurity'].value_counts(normalize=True)*100).plot(kind = 'bar',title = 'Segurança Online dos Clientes que estão na Novexus')\n",
        "\n"
      ],
      "metadata": {
        "colab": {
          "base_uri": "https://localhost:8080/",
          "height": 587
        },
        "id": "295s0WQ_BJ2x",
        "outputId": "cacbd1d7-38f8-4905-c9ba-e3287c4cd246"
      },
      "execution_count": null,
      "outputs": [
        {
          "output_type": "execute_result",
          "data": {
            "text/plain": [
              "<Axes: title={'center': 'Segurança Online dos Clientes que estão na Novexus'}>"
            ]
          },
          "metadata": {},
          "execution_count": 18
        },
        {
          "output_type": "display_data",
          "data": {
            "text/plain": [
              "<Figure size 640x480 with 1 Axes>"
            ],
            "image/png": "[encoded data removed]"
          },
          "metadata": {}
        }
      ]
    },
    {
      "cell_type": "code",
      "source": [
        "(df[df['Churn'] == 'Yes']['OnlineSecurity'].value_counts(normalize=True)*100).plot(kind = 'bar',title = 'Segurança online dos Clientes que abandonaram na Novexus')\n",
        "#Possible relationship with churn: No online security"
      ],
      "metadata": {
        "colab": {
          "base_uri": "https://localhost:8080/",
          "height": 587
        },
        "id": "wn50600sBRBl",
        "outputId": "775d2d0a-01f0-4d25-88eb-f261a10e4dab"
      },
      "execution_count": null,
      "outputs": [
        {
          "output_type": "execute_result",
          "data": {
            "text/plain": [
              "<Axes: title={'center': 'Segurança online dos Clientes que abandonaram na Novexus'}>"
            ]
          },
          "metadata": {},
          "execution_count": 19
        },
        {
          "output_type": "display_data",
          "data": {
            "text/plain": [
              "<Figure size 640x480 with 1 Axes>"
            ],
            "image/png": "[encoded data removed]"
          },
          "metadata": {}
        }
      ]
    },
    {
      "cell_type": "code",
      "source": [
        "(df[df['Churn'] == 'No']['DeviceProtection'].value_counts(normalize=True)*100).plot(kind = 'bar',title = 'Proteção de aparelho dos Clientes que estão na Novexus')"
      ],
      "metadata": {
        "colab": {
          "base_uri": "https://localhost:8080/",
          "height": 587
        },
        "id": "kfQOAB03Bvz9",
        "outputId": "6347cf6a-59f0-435b-cdd7-f209b3944917"
      },
      "execution_count": null,
      "outputs": [
        {
          "output_type": "execute_result",
          "data": {
            "text/plain": [
              "<Axes: title={'center': 'Proteção de aparelho dos Clientes que estão na Novexus'}>"
            ]
          },
          "metadata": {},
          "execution_count": 20
        },
        {
          "output_type": "display_data",
          "data": {
            "text/plain": [
              "<Figure size 640x480 with 1 Axes>"
            ],
            "image/png": "[encoded data removed]"
          },
          "metadata": {}
        }
      ]
    },
    {
      "cell_type": "code",
      "source": [
        "(df[df['Churn'] == 'Yes']['DeviceProtection'].value_counts(normalize=True)*100).plot(kind = 'bar',title = 'Proteção de aparelho dos Clientes que abandonaram a Novexus')\n",
        "# More difference in protection and no proctection option in clients that had a churn\n"
      ],
      "metadata": {
        "colab": {
          "base_uri": "https://localhost:8080/",
          "height": 587
        },
        "id": "zRQEhgg0DBy0",
        "outputId": "7e7df681-ec21-48c8-9e89-8c7f0242dd0d"
      },
      "execution_count": null,
      "outputs": [
        {
          "output_type": "execute_result",
          "data": {
            "text/plain": [
              "<Axes: title={'center': 'Proteção de aparelho dos Clientes que abandonaram a Novexus'}>"
            ]
          },
          "metadata": {},
          "execution_count": 21
        },
        {
          "output_type": "display_data",
          "data": {
            "text/plain": [
              "<Figure size 640x480 with 1 Axes>"
            ],
            "image/png": "[encoded data removed]"
          },
          "metadata": {}
        }
      ]
    },
    {
      "cell_type": "code",
      "source": [
        "display(df[df['Churn'] == 'No']['Contract'].value_counts(normalize=True) * 100)\n",
        "display(df[df['Churn'] == 'Yes']['Contract'].value_counts(normalize=True) * 100)\n",
        "#Verify some improvements in month-to-month plan"
      ],
      "metadata": {
        "colab": {
          "base_uri": "https://localhost:8080/",
          "height": 156
        },
        "id": "ducdGhG2Epx9",
        "outputId": "0db59773-fa20-47d1-80dd-5135fb160360"
      },
      "execution_count": null,
      "outputs": [
        {
          "output_type": "display_data",
          "data": {
            "text/plain": [
              "Month-to-month    42.906842\n",
              "Two year          31.832238\n",
              "One year          25.260920\n",
              "Name: Contract, dtype: float64"
            ]
          },
          "metadata": {}
        },
        {
          "output_type": "display_data",
          "data": {
            "text/plain": [
              "Month-to-month    88.550027\n",
              "One year           8.881755\n",
              "Two year           2.568218\n",
              "Name: Contract, dtype: float64"
            ]
          },
          "metadata": {}
        }
      ]
    },
    {
      "cell_type": "markdown",
      "source": [
        "### Correlation with variables by Chi Quadrado Test"
      ],
      "metadata": {
        "id": "JmUMDx_sz4AM"
      }
    },
    {
      "cell_type": "code",
      "source": [
        "# Assumption(H0): The two columns are NOT related to each other\n",
        "\n",
        "for i in df.columns:\n",
        "\n",
        "  CrosstabResult=pd.crosstab(index = df['Churn'],columns = df[i])\n",
        "  # Performing Chi-sq test\n",
        "  ChiSqResult = chi2_contingency(CrosstabResult)\n",
        "\n",
        "  # P-Value is the Probability of H0 being True\n",
        "  # If P-Value&gt;0.05 then only we Accept the assumption(H0)\n",
        "\n",
        "  if ChiSqResult[1] > 0.05: print(f'Variables Churn and {i} are not related to each other.')\n",
        "  # else: print(f'Variables Churn and {i} are related to each other.')\n",
        "\n"
      ],
      "metadata": {
        "colab": {
          "base_uri": "https://localhost:8080/"
        },
        "id": "5a_KbmOPz-bY",
        "outputId": "5f8323e4-d1ba-4519-97ab-8aac1368037d"
      },
      "execution_count": null,
      "outputs": [
        {
          "output_type": "stream",
          "name": "stdout",
          "text": [
            "Variables Churn and customerID are not related to each other.\n",
            "Variables Churn and PhoneService are not related to each other.\n",
            "Variables Churn and gender are not related to each other.\n",
            "Variables Churn and Total are not related to each other.\n"
          ]
        }
      ]
    },
    {
      "cell_type": "code",
      "source": [
        "# exclude irrelevant variables to train the models\n",
        "df_modelo = df.drop(['customerID', 'PhoneService','gender','Total'], axis=1)"
      ],
      "metadata": {
        "id": "SiTYTgDPOBac"
      },
      "execution_count": null,
      "outputs": []
    },
    {
      "cell_type": "markdown",
      "source": [
        "### Data Enconding"
      ],
      "metadata": {
        "id": "NIfBrlI78F55"
      }
    },
    {
      "cell_type": "code",
      "source": [
        "for i in df_modelo.columns:\n",
        "  print(df_modelo[i].value_counts(normalize=True)*100)\n"
      ],
      "metadata": {
        "colab": {
          "base_uri": "https://localhost:8080/"
        },
        "id": "u3yNfDQSDown",
        "outputId": "04ab6439-13f4-4496-a994-365843f1c98f"
      },
      "execution_count": null,
      "outputs": [
        {
          "output_type": "stream",
          "name": "stdout",
          "text": [
            "No     73.463013\n",
            "Yes    26.536987\n",
            "Name: Churn, dtype: float64\n",
            "No                  48.132898\n",
            "Yes                 42.183729\n",
            "No phone service     9.683374\n",
            "Name: MultipleLines, dtype: float64\n",
            "0    83.785319\n",
            "1    16.214681\n",
            "Name: SeniorCitizen, dtype: float64\n",
            "No     51.69672\n",
            "Yes    48.30328\n",
            "Name: Partner, dtype: float64\n",
            "No     70.041176\n",
            "Yes    29.958824\n",
            "Name: Dependents, dtype: float64\n",
            "1     8.703677\n",
            "72    5.139855\n",
            "2     3.379242\n",
            "3     2.839699\n",
            "4     2.498935\n",
            "        ...   \n",
            "28    0.809314\n",
            "39    0.795116\n",
            "44    0.724123\n",
            "36    0.709925\n",
            "0     0.156183\n",
            "Name: tenure, Length: 73, dtype: float64\n",
            "Fiber optic    43.958540\n",
            "DSL            34.374556\n",
            "No             21.666903\n",
            "Name: InternetService, dtype: float64\n",
            "No                     49.666335\n",
            "Yes                    28.666761\n",
            "No internet service    21.666903\n",
            "Name: OnlineSecurity, dtype: float64\n",
            "No                     43.844952\n",
            "Yes                    34.488144\n",
            "No internet service    21.666903\n",
            "Name: OnlineBackup, dtype: float64\n",
            "No                     43.944342\n",
            "Yes                    34.388755\n",
            "No internet service    21.666903\n",
            "Name: DeviceProtection, dtype: float64\n",
            "No                     49.311373\n",
            "Yes                    29.021724\n",
            "No internet service    21.666903\n",
            "Name: TechSupport, dtype: float64\n",
            "No                     39.897771\n",
            "Yes                    38.435326\n",
            "No internet service    21.666903\n",
            "Name: StreamingTV, dtype: float64\n",
            "No                     39.542808\n",
            "Yes                    38.790288\n",
            "No internet service    21.666903\n",
            "Name: StreamingMovies, dtype: float64\n",
            "Month-to-month    55.019168\n",
            "Two year          24.066449\n",
            "One year          20.914383\n",
            "Name: Contract, dtype: float64\n",
            "Yes    59.221922\n",
            "No     40.778078\n",
            "Name: PaperlessBilling, dtype: float64\n",
            "Electronic check             33.579441\n",
            "Mailed check                 22.887974\n",
            "Bank transfer (automatic)    21.922476\n",
            "Credit card (automatic)      21.610109\n",
            "Name: PaymentMethod, dtype: float64\n",
            "20.05     0.866108\n",
            "19.85     0.638932\n",
            "19.95     0.624734\n",
            "19.90     0.624734\n",
            "20.00     0.610535\n",
            "            ...   \n",
            "116.55    0.014198\n",
            "106.85    0.014198\n",
            "68.55     0.014198\n",
            "108.80    0.014198\n",
            "67.85     0.014198\n",
            "Name: Monthly, Length: 1585, dtype: float64\n"
          ]
        }
      ]
    },
    {
      "cell_type": "code",
      "source": [
        "# Transform columns in boolean type\n",
        "df_modelo.replace(to_replace= 'DSL', value= 'Yes', regex=True, inplace = True)\n",
        "df_modelo.replace(to_replace= 'Fiber optic', value= 'Yes', regex=True, inplace = True)\n",
        "df_modelo.replace(to_replace = 'No phone service', value = 'No', inplace = True)\n",
        "df_modelo.replace(to_replace = 'No internet service', value =  'No', inplace = True)\n",
        "\n",
        "#get dummies in columns that have more of two types\n",
        "df_modelo = pd.get_dummies(df_modelo, prefix = ['contract'], columns = ['Contract'])\n",
        "df_modelo = pd.get_dummies(df_modelo, prefix = ['payment'], columns = ['PaymentMethod'])\n",
        "\n"
      ],
      "metadata": {
        "id": "HKnVFlVn8MSX"
      },
      "execution_count": null,
      "outputs": []
    },
    {
      "cell_type": "markdown",
      "source": [
        "###Normalize Numerical Variables"
      ],
      "metadata": {
        "id": "eWlGdBE2S2PD"
      }
    },
    {
      "cell_type": "code",
      "source": [
        "#normalize two numerical columns\n",
        "std_scaler = StandardScaler()\n",
        "df_scaled = std_scaler.fit_transform(df_modelo[['tenure','Monthly']].to_numpy())\n",
        "\n",
        "#normalized dataframe\n",
        "df_scaled = pd.DataFrame(df_scaled, columns = ['tenure','Monthly'])\n",
        "\n",
        "#drop old columns and concatenate the new columns\n",
        "df_modelo = df_modelo.drop(columns = ['tenure','Monthly'], axis = 1)\n",
        "df_normalized = pd.concat([df_modelo,df_scaled], axis=1, join=\"inner\")\n"
      ],
      "metadata": {
        "id": "9Xs00Bx8S5Zs"
      },
      "execution_count": null,
      "outputs": []
    },
    {
      "cell_type": "markdown",
      "source": [
        "### Transform categorical variables in binaries\n"
      ],
      "metadata": {
        "id": "JNfMq4mfon3c"
      }
    },
    {
      "cell_type": "code",
      "source": [
        "categorical_columns = [\"Churn\",\"MultipleLines\",\"Partner\",\"Dependents\",\"OnlineSecurity\",\"OnlineBackup\",\"DeviceProtection\",\n",
        "                       \"TechSupport\",\"StreamingTV\",\"PaperlessBilling\",\"StreamingMovies\",\"InternetService\"]\n",
        "\n",
        "for i in categorical_columns:\n",
        "  df_normalized[i] = pd.get_dummies(df_normalized[i])[\"Yes\"]\n"
      ],
      "metadata": {
        "id": "4MXdFvPFouS6"
      },
      "execution_count": null,
      "outputs": []
    },
    {
      "cell_type": "code",
      "source": [
        "df_normalized"
      ],
      "metadata": {
        "colab": {
          "base_uri": "https://localhost:8080/",
          "height": 478
        },
        "id": "GE9M1uTOsJAx",
        "outputId": "c674b657-fbba-498b-f295-e00127084d12"
      },
      "execution_count": null,
      "outputs": [
        {
          "output_type": "execute_result",
          "data": {
            "text/plain": [
              "      Churn  MultipleLines  SeniorCitizen  Partner  Dependents  \\\n",
              "0         0              0              0        1           1   \n",
              "1         0              1              0        0           0   \n",
              "2         1              0              0        0           0   \n",
              "3         1              0              1        1           0   \n",
              "4         1              0              1        1           0   \n",
              "...     ...            ...            ...      ...         ...   \n",
              "7038      0              1              0        0           1   \n",
              "7039      0              0              0        0           0   \n",
              "7040      0              1              1        1           0   \n",
              "7041      0              0              0        1           1   \n",
              "7042      0              0              0        0           0   \n",
              "\n",
              "      InternetService  OnlineSecurity  OnlineBackup  DeviceProtection  \\\n",
              "0                   1               0             1                 0   \n",
              "1                   1               0             0                 0   \n",
              "2                   1               0             0                 1   \n",
              "3                   1               0             1                 1   \n",
              "4                   1               0             0                 0   \n",
              "...               ...             ...           ...               ...   \n",
              "7038                1               1             1                 1   \n",
              "7039                1               0             0                 0   \n",
              "7040                1               1             1                 0   \n",
              "7041                1               0             1                 0   \n",
              "7042                0               0             0                 0   \n",
              "\n",
              "      TechSupport  StreamingTV  StreamingMovies  PaperlessBilling  \\\n",
              "0               1            1                0                 1   \n",
              "1               0            0                1                 0   \n",
              "2               0            0                0                 1   \n",
              "3               0            1                1                 1   \n",
              "4               1            1                0                 1   \n",
              "...           ...          ...              ...               ...   \n",
              "7038            1            1                1                 1   \n",
              "7039            0            1                0                 1   \n",
              "7040            0            1                0                 1   \n",
              "7041            1            0                1                 1   \n",
              "7042            0            0                0                 0   \n",
              "\n",
              "      contract_Month-to-month  contract_One year  contract_Two year  \\\n",
              "0                           0                  1                  0   \n",
              "1                           1                  0                  0   \n",
              "2                           1                  0                  0   \n",
              "3                           1                  0                  0   \n",
              "4                           1                  0                  0   \n",
              "...                       ...                ...                ...   \n",
              "7038                        0                  0                  1   \n",
              "7039                        1                  0                  0   \n",
              "7040                        1                  0                  0   \n",
              "7041                        1                  0                  0   \n",
              "7042                        1                  0                  0   \n",
              "\n",
              "      payment_Bank transfer (automatic)  payment_Credit card (automatic)  \\\n",
              "0                                     0                                0   \n",
              "1                                     0                                0   \n",
              "2                                     0                                0   \n",
              "3                                     0                                0   \n",
              "4                                     0                                0   \n",
              "...                                 ...                              ...   \n",
              "7038                                  0                                1   \n",
              "7039                                  0                                0   \n",
              "7040                                  0                                0   \n",
              "7041                                  0                                0   \n",
              "7042                                  0                                0   \n",
              "\n",
              "      payment_Electronic check  payment_Mailed check    tenure   Monthly  \n",
              "0                            0                     1 -0.951682  0.027862  \n",
              "1                            0                     1 -0.951682 -0.161583  \n",
              "2                            1                     0 -1.155283  0.303720  \n",
              "3                            1                     0 -0.788800  1.104706  \n",
              "4                            0                     1 -1.196004  0.636080  \n",
              "...                        ...                   ...       ...       ...  \n",
              "7038                         0                     0 -0.788800 -0.319454  \n",
              "7039                         0                     1 -0.422317  0.675963  \n",
              "7040                         1                     0 -1.236724 -0.480648  \n",
              "7041                         1                     0  1.410099  0.102643  \n",
              "7042                         0                     1  1.247218 -0.191495  \n",
              "\n",
              "[6830 rows x 22 columns]"
            ],
            "text/html": [
              "\n",
              "  <div id=\"df-df96a4b6-f897-4247-8ed0-dae3287bb136\" class=\"colab-df-container\">\n",
              "    <div>\n",
              "<style scoped>\n",
              "    .dataframe tbody tr th:only-of-type {\n",
              "        vertical-align: middle;\n",
              "    }\n",
              "\n",
              "    .dataframe tbody tr th {\n",
              "        vertical-align: top;\n",
              "    }\n",
              "\n",
              "    .dataframe thead th {\n",
              "        text-align: right;\n",
              "    }\n",
              "</style>\n",
              "<table border=\"1\" class=\"dataframe\">\n",
              "  <thead>\n",
              "    <tr style=\"text-align: right;\">\n",
              "      <th></th>\n",
              "      <th>Churn</th>\n",
              "      <th>MultipleLines</th>\n",
              "      <th>SeniorCitizen</th>\n",
              "      <th>Partner</th>\n",
              "      <th>Dependents</th>\n",
              "      <th>InternetService</th>\n",
              "      <th>OnlineSecurity</th>\n",
              "      <th>OnlineBackup</th>\n",
              "      <th>DeviceProtection</th>\n",
              "      <th>TechSupport</th>\n",
              "      <th>StreamingTV</th>\n",
              "      <th>StreamingMovies</th>\n",
              "      <th>PaperlessBilling</th>\n",
              "      <th>contract_Month-to-month</th>\n",
              "      <th>contract_One year</th>\n",
              "      <th>contract_Two year</th>\n",
              "      <th>payment_Bank transfer (automatic)</th>\n",
              "      <th>payment_Credit card (automatic)</th>\n",
              "      <th>payment_Electronic check</th>\n",
              "      <th>payment_Mailed check</th>\n",
              "      <th>tenure</th>\n",
              "      <th>Monthly</th>\n",
              "    </tr>\n",
              "  </thead>\n",
              "  <tbody>\n",
              "    <tr>\n",
              "      <th>0</th>\n",
              "      <td>0</td>\n",
              "      <td>0</td>\n",
              "      <td>0</td>\n",
              "      <td>1</td>\n",
              "      <td>1</td>\n",
              "      <td>1</td>\n",
              "      <td>0</td>\n",
              "      <td>1</td>\n",
              "      <td>0</td>\n",
              "      <td>1</td>\n",
              "      <td>1</td>\n",
              "      <td>0</td>\n",
              "      <td>1</td>\n",
              "      <td>0</td>\n",
              "      <td>1</td>\n",
              "      <td>0</td>\n",
              "      <td>0</td>\n",
              "      <td>0</td>\n",
              "      <td>0</td>\n",
              "      <td>1</td>\n",
              "      <td>-0.951682</td>\n",
              "      <td>0.027862</td>\n",
              "    </tr>\n",
              "    <tr>\n",
              "      <th>1</th>\n",
              "      <td>0</td>\n",
              "      <td>1</td>\n",
              "      <td>0</td>\n",
              "      <td>0</td>\n",
              "      <td>0</td>\n",
              "      <td>1</td>\n",
              "      <td>0</td>\n",
              "      <td>0</td>\n",
              "      <td>0</td>\n",
              "      <td>0</td>\n",
              "      <td>0</td>\n",
              "      <td>1</td>\n",
              "      <td>0</td>\n",
              "      <td>1</td>\n",
              "      <td>0</td>\n",
              "      <td>0</td>\n",
              "      <td>0</td>\n",
              "      <td>0</td>\n",
              "      <td>0</td>\n",
              "      <td>1</td>\n",
              "      <td>-0.951682</td>\n",
              "      <td>-0.161583</td>\n",
              "    </tr>\n",
              "    <tr>\n",
              "      <th>2</th>\n",
              "      <td>1</td>\n",
              "      <td>0</td>\n",
              "      <td>0</td>\n",
              "      <td>0</td>\n",
              "      <td>0</td>\n",
              "      <td>1</td>\n",
              "      <td>0</td>\n",
              "      <td>0</td>\n",
              "      <td>1</td>\n",
              "      <td>0</td>\n",
              "      <td>0</td>\n",
              "      <td>0</td>\n",
              "      <td>1</td>\n",
              "      <td>1</td>\n",
              "      <td>0</td>\n",
              "      <td>0</td>\n",
              "      <td>0</td>\n",
              "      <td>0</td>\n",
              "      <td>1</td>\n",
              "      <td>0</td>\n",
              "      <td>-1.155283</td>\n",
              "      <td>0.303720</td>\n",
              "    </tr>\n",
              "    <tr>\n",
              "      <th>3</th>\n",
              "      <td>1</td>\n",
              "      <td>0</td>\n",
              "      <td>1</td>\n",
              "      <td>1</td>\n",
              "      <td>0</td>\n",
              "      <td>1</td>\n",
              "      <td>0</td>\n",
              "      <td>1</td>\n",
              "      <td>1</td>\n",
              "      <td>0</td>\n",
              "      <td>1</td>\n",
              "      <td>1</td>\n",
              "      <td>1</td>\n",
              "      <td>1</td>\n",
              "      <td>0</td>\n",
              "      <td>0</td>\n",
              "      <td>0</td>\n",
              "      <td>0</td>\n",
              "      <td>1</td>\n",
              "      <td>0</td>\n",
              "      <td>-0.788800</td>\n",
              "      <td>1.104706</td>\n",
              "    </tr>\n",
              "    <tr>\n",
              "      <th>4</th>\n",
              "      <td>1</td>\n",
              "      <td>0</td>\n",
              "      <td>1</td>\n",
              "      <td>1</td>\n",
              "      <td>0</td>\n",
              "      <td>1</td>\n",
              "      <td>0</td>\n",
              "      <td>0</td>\n",
              "      <td>0</td>\n",
              "      <td>1</td>\n",
              "      <td>1</td>\n",
              "      <td>0</td>\n",
              "      <td>1</td>\n",
              "      <td>1</td>\n",
              "      <td>0</td>\n",
              "      <td>0</td>\n",
              "      <td>0</td>\n",
              "      <td>0</td>\n",
              "      <td>0</td>\n",
              "      <td>1</td>\n",
              "      <td>-1.196004</td>\n",
              "      <td>0.636080</td>\n",
              "    </tr>\n",
              "    <tr>\n",
              "      <th>...</th>\n",
              "      <td>...</td>\n",
              "      <td>...</td>\n",
              "      <td>...</td>\n",
              "      <td>...</td>\n",
              "      <td>...</td>\n",
              "      <td>...</td>\n",
              "      <td>...</td>\n",
              "      <td>...</td>\n",
              "      <td>...</td>\n",
              "      <td>...</td>\n",
              "      <td>...</td>\n",
              "      <td>...</td>\n",
              "      <td>...</td>\n",
              "      <td>...</td>\n",
              "      <td>...</td>\n",
              "      <td>...</td>\n",
              "      <td>...</td>\n",
              "      <td>...</td>\n",
              "      <td>...</td>\n",
              "      <td>...</td>\n",
              "      <td>...</td>\n",
              "      <td>...</td>\n",
              "    </tr>\n",
              "    <tr>\n",
              "      <th>7038</th>\n",
              "      <td>0</td>\n",
              "      <td>1</td>\n",
              "      <td>0</td>\n",
              "      <td>0</td>\n",
              "      <td>1</td>\n",
              "      <td>1</td>\n",
              "      <td>1</td>\n",
              "      <td>1</td>\n",
              "      <td>1</td>\n",
              "      <td>1</td>\n",
              "      <td>1</td>\n",
              "      <td>1</td>\n",
              "      <td>1</td>\n",
              "      <td>0</td>\n",
              "      <td>0</td>\n",
              "      <td>1</td>\n",
              "      <td>0</td>\n",
              "      <td>1</td>\n",
              "      <td>0</td>\n",
              "      <td>0</td>\n",
              "      <td>-0.788800</td>\n",
              "      <td>-0.319454</td>\n",
              "    </tr>\n",
              "    <tr>\n",
              "      <th>7039</th>\n",
              "      <td>0</td>\n",
              "      <td>0</td>\n",
              "      <td>0</td>\n",
              "      <td>0</td>\n",
              "      <td>0</td>\n",
              "      <td>1</td>\n",
              "      <td>0</td>\n",
              "      <td>0</td>\n",
              "      <td>0</td>\n",
              "      <td>0</td>\n",
              "      <td>1</td>\n",
              "      <td>0</td>\n",
              "      <td>1</td>\n",
              "      <td>1</td>\n",
              "      <td>0</td>\n",
              "      <td>0</td>\n",
              "      <td>0</td>\n",
              "      <td>0</td>\n",
              "      <td>0</td>\n",
              "      <td>1</td>\n",
              "      <td>-0.422317</td>\n",
              "      <td>0.675963</td>\n",
              "    </tr>\n",
              "    <tr>\n",
              "      <th>7040</th>\n",
              "      <td>0</td>\n",
              "      <td>1</td>\n",
              "      <td>1</td>\n",
              "      <td>1</td>\n",
              "      <td>0</td>\n",
              "      <td>1</td>\n",
              "      <td>1</td>\n",
              "      <td>1</td>\n",
              "      <td>0</td>\n",
              "      <td>0</td>\n",
              "      <td>1</td>\n",
              "      <td>0</td>\n",
              "      <td>1</td>\n",
              "      <td>1</td>\n",
              "      <td>0</td>\n",
              "      <td>0</td>\n",
              "      <td>0</td>\n",
              "      <td>0</td>\n",
              "      <td>1</td>\n",
              "      <td>0</td>\n",
              "      <td>-1.236724</td>\n",
              "      <td>-0.480648</td>\n",
              "    </tr>\n",
              "    <tr>\n",
              "      <th>7041</th>\n",
              "      <td>0</td>\n",
              "      <td>0</td>\n",
              "      <td>0</td>\n",
              "      <td>1</td>\n",
              "      <td>1</td>\n",
              "      <td>1</td>\n",
              "      <td>0</td>\n",
              "      <td>1</td>\n",
              "      <td>0</td>\n",
              "      <td>1</td>\n",
              "      <td>0</td>\n",
              "      <td>1</td>\n",
              "      <td>1</td>\n",
              "      <td>1</td>\n",
              "      <td>0</td>\n",
              "      <td>0</td>\n",
              "      <td>0</td>\n",
              "      <td>0</td>\n",
              "      <td>1</td>\n",
              "      <td>0</td>\n",
              "      <td>1.410099</td>\n",
              "      <td>0.102643</td>\n",
              "    </tr>\n",
              "    <tr>\n",
              "      <th>7042</th>\n",
              "      <td>0</td>\n",
              "      <td>0</td>\n",
              "      <td>0</td>\n",
              "      <td>0</td>\n",
              "      <td>0</td>\n",
              "      <td>0</td>\n",
              "      <td>0</td>\n",
              "      <td>0</td>\n",
              "      <td>0</td>\n",
              "      <td>0</td>\n",
              "      <td>0</td>\n",
              "      <td>0</td>\n",
              "      <td>0</td>\n",
              "      <td>1</td>\n",
              "      <td>0</td>\n",
              "      <td>0</td>\n",
              "      <td>0</td>\n",
              "      <td>0</td>\n",
              "      <td>0</td>\n",
              "      <td>1</td>\n",
              "      <td>1.247218</td>\n",
              "      <td>-0.191495</td>\n",
              "    </tr>\n",
              "  </tbody>\n",
              "</table>\n",
              "<p>6830 rows × 22 columns</p>\n",
              "</div>\n",
              "    <div class=\"colab-df-buttons\">\n",
              "\n",
              "  <div class=\"colab-df-container\">\n",
              "    <button class=\"colab-df-convert\" onclick=\"convertToInteractive('df-df96a4b6-f897-4247-8ed0-dae3287bb136')\"\n",
              "            title=\"Convert this dataframe to an interactive table.\"\n",
              "            style=\"display:none;\">\n",
              "\n",
              "  <svg xmlns=\"http://www.w3.org/2000/svg\" height=\"24px\" viewBox=\"0 -960 960 960\">\n",
              "    <path d=\"M120-120v-720h720v720H120Zm60-500h600v-160H180v160Zm220 220h160v-160H400v160Zm0 220h160v-160H400v160ZM180-400h160v-160H180v160Zm440 0h160v-160H620v160ZM180-180h160v-160H180v160Zm440 0h160v-160H620v160Z\"/>\n",
              "  </svg>\n",
              "    </button>\n",
              "\n",
              "  <style>\n",
              "    .colab-df-container {\n",
              "      display:flex;\n",
              "      gap: 12px;\n",
              "    }\n",
              "\n",
              "    .colab-df-convert {\n",
              "      background-color: #E8F0FE;\n",
              "      border: none;\n",
              "      border-radius: 50%;\n",
              "      cursor: pointer;\n",
              "      display: none;\n",
              "      fill: #1967D2;\n",
              "      height: 32px;\n",
              "      padding: 0 0 0 0;\n",
              "      width: 32px;\n",
              "    }\n",
              "\n",
              "    .colab-df-convert:hover {\n",
              "      background-color: #E2EBFA;\n",
              "      box-shadow: 0px 1px 2px rgba(60, 64, 67, 0.3), 0px 1px 3px 1px rgba(60, 64, 67, 0.15);\n",
              "      fill: #174EA6;\n",
              "    }\n",
              "\n",
              "    .colab-df-buttons div {\n",
              "      margin-bottom: 4px;\n",
              "    }\n",
              "\n",
              "    [theme=dark] .colab-df-convert {\n",
              "      background-color: #3B4455;\n",
              "      fill: #D2E3FC;\n",
              "    }\n",
              "\n",
              "    [theme=dark] .colab-df-convert:hover {\n",
              "      background-color: #434B5C;\n",
              "      box-shadow: 0px 1px 3px 1px rgba(0, 0, 0, 0.15);\n",
              "      filter: drop-shadow(0px 1px 2px rgba(0, 0, 0, 0.3));\n",
              "      fill: #FFFFFF;\n",
              "    }\n",
              "  </style>\n",
              "\n",
              "    <script>\n",
              "      const buttonEl =\n",
              "        document.querySelector('#df-df96a4b6-f897-4247-8ed0-dae3287bb136 button.colab-df-convert');\n",
              "      buttonEl.style.display =\n",
              "        google.colab.kernel.accessAllowed ? 'block' : 'none';\n",
              "\n",
              "      async function convertToInteractive(key) {\n",
              "        const element = document.querySelector('#df-df96a4b6-f897-4247-8ed0-dae3287bb136');\n",
              "        const dataTable =\n",
              "          await google.colab.kernel.invokeFunction('convertToInteractive',\n",
              "                                                    [key], {});\n",
              "        if (!dataTable) return;\n",
              "\n",
              "        const docLinkHtml = 'Like what you see? Visit the ' +\n",
              "          '<a target=\"_blank\" href=https://colab.research.google.com/notebooks/data_table.ipynb>data table notebook</a>'\n",
              "          + ' to learn more about interactive tables.';\n",
              "        element.innerHTML = '';\n",
              "        dataTable['output_type'] = 'display_data';\n",
              "        await google.colab.output.renderOutput(dataTable, element);\n",
              "        const docLink = document.createElement('div');\n",
              "        docLink.innerHTML = docLinkHtml;\n",
              "        element.appendChild(docLink);\n",
              "      }\n",
              "    </script>\n",
              "  </div>\n",
              "\n",
              "\n",
              "<div id=\"df-650e7905-6d2c-4019-bf9a-e3612dc66430\">\n",
              "  <button class=\"colab-df-quickchart\" onclick=\"quickchart('df-650e7905-6d2c-4019-bf9a-e3612dc66430')\"\n",
              "            title=\"Suggest charts.\"\n",
              "            style=\"display:none;\">\n",
              "\n",
              "<svg xmlns=\"http://www.w3.org/2000/svg\" height=\"24px\"viewBox=\"0 0 24 24\"\n",
              "     width=\"24px\">\n",
              "    <g>\n",
              "        <path d=\"M19 3H5c-1.1 0-2 .9-2 2v14c0 1.1.9 2 2 2h14c1.1 0 2-.9 2-2V5c0-1.1-.9-2-2-2zM9 17H7v-7h2v7zm4 0h-2V7h2v10zm4 0h-2v-4h2v4z\"/>\n",
              "    </g>\n",
              "</svg>\n",
              "  </button>\n",
              "\n",
              "<style>\n",
              "  .colab-df-quickchart {\n",
              "      --bg-color: #E8F0FE;\n",
              "      --fill-color: #1967D2;\n",
              "      --hover-bg-color: #E2EBFA;\n",
              "      --hover-fill-color: #174EA6;\n",
              "      --disabled-fill-color: #AAA;\n",
              "      --disabled-bg-color: #DDD;\n",
              "  }\n",
              "\n",
              "  [theme=dark] .colab-df-quickchart {\n",
              "      --bg-color: #3B4455;\n",
              "      --fill-color: #D2E3FC;\n",
              "      --hover-bg-color: #434B5C;\n",
              "      --hover-fill-color: #FFFFFF;\n",
              "      --disabled-bg-color: #3B4455;\n",
              "      --disabled-fill-color: #666;\n",
              "  }\n",
              "\n",
              "  .colab-df-quickchart {\n",
              "    background-color: var(--bg-color);\n",
              "    border: none;\n",
              "    border-radius: 50%;\n",
              "    cursor: pointer;\n",
              "    display: none;\n",
              "    fill: var(--fill-color);\n",
              "    height: 32px;\n",
              "    padding: 0;\n",
              "    width: 32px;\n",
              "  }\n",
              "\n",
              "  .colab-df-quickchart:hover {\n",
              "    background-color: var(--hover-bg-color);\n",
              "    box-shadow: 0 1px 2px rgba(60, 64, 67, 0.3), 0 1px 3px 1px rgba(60, 64, 67, 0.15);\n",
              "    fill: var(--button-hover-fill-color);\n",
              "  }\n",
              "\n",
              "  .colab-df-quickchart-complete:disabled,\n",
              "  .colab-df-quickchart-complete:disabled:hover {\n",
              "    background-color: var(--disabled-bg-color);\n",
              "    fill: var(--disabled-fill-color);\n",
              "    box-shadow: none;\n",
              "  }\n",
              "\n",
              "  .colab-df-spinner {\n",
              "    border: 2px solid var(--fill-color);\n",
              "    border-color: transparent;\n",
              "    border-bottom-color: var(--fill-color);\n",
              "    animation:\n",
              "      spin 1s steps(1) infinite;\n",
              "  }\n",
              "\n",
              "  @keyframes spin {\n",
              "    0% {\n",
              "      border-color: transparent;\n",
              "      border-bottom-color: var(--fill-color);\n",
              "      border-left-color: var(--fill-color);\n",
              "    }\n",
              "    20% {\n",
              "      border-color: transparent;\n",
              "      border-left-color: var(--fill-color);\n",
              "      border-top-color: var(--fill-color);\n",
              "    }\n",
              "    30% {\n",
              "      border-color: transparent;\n",
              "      border-left-color: var(--fill-color);\n",
              "      border-top-color: var(--fill-color);\n",
              "      border-right-color: var(--fill-color);\n",
              "    }\n",
              "    40% {\n",
              "      border-color: transparent;\n",
              "      border-right-color: var(--fill-color);\n",
              "      border-top-color: var(--fill-color);\n",
              "    }\n",
              "    60% {\n",
              "      border-color: transparent;\n",
              "      border-right-color: var(--fill-color);\n",
              "    }\n",
              "    80% {\n",
              "      border-color: transparent;\n",
              "      border-right-color: var(--fill-color);\n",
              "      border-bottom-color: var(--fill-color);\n",
              "    }\n",
              "    90% {\n",
              "      border-color: transparent;\n",
              "      border-bottom-color: var(--fill-color);\n",
              "    }\n",
              "  }\n",
              "</style>\n",
              "\n",
              "  <script>\n",
              "    async function quickchart(key) {\n",
              "      const quickchartButtonEl =\n",
              "        document.querySelector('#' + key + ' button');\n",
              "      quickchartButtonEl.disabled = true;  // To prevent multiple clicks.\n",
              "      quickchartButtonEl.classList.add('colab-df-spinner');\n",
              "      try {\n",
              "        const charts = await google.colab.kernel.invokeFunction(\n",
              "            'suggestCharts', [key], {});\n",
              "      } catch (error) {\n",
              "        console.error('Error during call to suggestCharts:', error);\n",
              "      }\n",
              "      quickchartButtonEl.classList.remove('colab-df-spinner');\n",
              "      quickchartButtonEl.classList.add('colab-df-quickchart-complete');\n",
              "    }\n",
              "    (() => {\n",
              "      let quickchartButtonEl =\n",
              "        document.querySelector('#df-650e7905-6d2c-4019-bf9a-e3612dc66430 button');\n",
              "      quickchartButtonEl.style.display =\n",
              "        google.colab.kernel.accessAllowed ? 'block' : 'none';\n",
              "    })();\n",
              "  </script>\n",
              "</div>\n",
              "    </div>\n",
              "  </div>\n"
            ]
          },
          "metadata": {},
          "execution_count": 29
        }
      ]
    },
    {
      "cell_type": "markdown",
      "source": [
        "### Liding with unbalanced data"
      ],
      "metadata": {
        "id": "5U2M1CKfzrMe"
      }
    },
    {
      "cell_type": "code",
      "source": [
        "(df['Churn'].value_counts(normalize=True)*100).plot(kind = 'bar',title = 'Proporção dos Dados: Variável Churn')\n",
        "# churn is unbaleced"
      ],
      "metadata": {
        "colab": {
          "base_uri": "https://localhost:8080/",
          "height": 478
        },
        "id": "uWu9GECtRhqO",
        "outputId": "19795fe3-d6c3-4990-ef42-f72f9c4badfa"
      },
      "execution_count": null,
      "outputs": [
        {
          "output_type": "execute_result",
          "data": {
            "text/plain": [
              "<Axes: title={'center': 'Proporção dos Dados: Variável Churn'}>"
            ]
          },
          "metadata": {},
          "execution_count": 30
        },
        {
          "output_type": "display_data",
          "data": {
            "text/plain": [
              "<Figure size 640x480 with 1 Axes>"
            ],
            "image/png": "[encoded data removed]"
          },
          "metadata": {}
        }
      ]
    },
    {
      "cell_type": "code",
      "source": [
        "#use oversampling to balanced data\n",
        "X = df_normalized[['MultipleLines', 'SeniorCitizen', 'Partner', 'Dependents',\n",
        "       'InternetService', 'OnlineSecurity', 'OnlineBackup', 'DeviceProtection',\n",
        "       'TechSupport', 'StreamingTV', 'StreamingMovies', 'contract_Month-to-month',\n",
        "       'contract_One year', 'contract_Two year', 'PaperlessBilling', 'payment_Bank transfer (automatic)',\n",
        "       'payment_Credit card (automatic)','payment_Electronic check', 'payment_Mailed check', 'tenure', 'Monthly']]\n",
        "\n",
        "Y = df_normalized['Churn']\n",
        "\n",
        "#use random over sampler\n",
        "ros = RandomOverSampler(random_state=0)\n",
        "X_resampled, Y_resampled = ros.fit_resample(X,Y)\n",
        "\n",
        "#old data versus normalized data\n",
        "print(Counter(Y))\n",
        "print(Counter(Y_resampled))\n",
        "\n",
        "\n"
      ],
      "metadata": {
        "colab": {
          "base_uri": "https://localhost:8080/"
        },
        "id": "-ErE7t5oWZNd",
        "outputId": "d6032a4f-625c-473a-ba61-9760e09885de"
      },
      "execution_count": null,
      "outputs": [
        {
          "output_type": "stream",
          "name": "stdout",
          "text": [
            "Counter({0: 5009, 1: 1821})\n",
            "Counter({0: 5009, 1: 5009})\n"
          ]
        }
      ]
    },
    {
      "cell_type": "code",
      "source": [
        "#dados que vamos utilizar em nossos modelos\n",
        "df_normalized.columns"
      ],
      "metadata": {
        "colab": {
          "base_uri": "https://localhost:8080/"
        },
        "id": "lytHaJWSJEEB",
        "outputId": "cd853380-afcf-4fd3-b07f-b6249ee4959f"
      },
      "execution_count": null,
      "outputs": [
        {
          "output_type": "execute_result",
          "data": {
            "text/plain": [
              "Index(['Churn', 'MultipleLines', 'SeniorCitizen', 'Partner', 'Dependents',\n",
              "       'InternetService', 'OnlineSecurity', 'OnlineBackup', 'DeviceProtection',\n",
              "       'TechSupport', 'StreamingTV', 'StreamingMovies', 'PaperlessBilling',\n",
              "       'contract_Month-to-month', 'contract_One year', 'contract_Two year',\n",
              "       'payment_Bank transfer (automatic)', 'payment_Credit card (automatic)',\n",
              "       'payment_Electronic check', 'payment_Mailed check', 'tenure',\n",
              "       'Monthly'],\n",
              "      dtype='object')"
            ]
          },
          "metadata": {},
          "execution_count": 32
        }
      ]
    },
    {
      "cell_type": "markdown",
      "source": [
        "\n",
        "### Dummy Classifier"
      ],
      "metadata": {
        "id": "vWiyZAljhUZS"
      }
    },
    {
      "cell_type": "code",
      "source": [
        "#defines x,y data\n",
        "x = df_normalized[['SeniorCitizen','Monthly','payment_Bank transfer (automatic)', 'payment_Credit card (automatic)',\n",
        "       'payment_Electronic check','payment_Mailed check','InternetService','OnlineSecurity','DeviceProtection','Partner']]\n",
        "y = df_normalized[['Churn']]\n",
        "\n",
        "#numpy seed\n",
        "SEED = 594094\n",
        "np.random.seed(SEED)\n",
        "\n",
        "#calls Dummy class\n",
        "modelo = DummyClassifier(strategy='stratified')\n",
        "\n",
        "#cross validate\n",
        "results = cross_validate(modelo,x,y,cv = 10, return_train_score = False)\n",
        "\n",
        "#confidence interval to accuracy\n",
        "media = results['test_score'].mean()\n",
        "desvio_padrao = results['test_score'].std()\n",
        "\n",
        "#print\n",
        "print(\"Accuracy com dummy stratified (cv = 10) = [%.2f,%.2f]\" % (100*(media - 2*desvio_padrao),100*(media+2*desvio_padrao)))"
      ],
      "metadata": {
        "colab": {
          "base_uri": "https://localhost:8080/"
        },
        "id": "94wQKupshD6U",
        "outputId": "f154a91c-5f0e-4ec2-dd06-a63ba301fdac"
      },
      "execution_count": null,
      "outputs": [
        {
          "output_type": "stream",
          "name": "stdout",
          "text": [
            "Accuracy com dummy stratified (cv = 10) = [58.22,64.06]\n"
          ]
        }
      ]
    },
    {
      "cell_type": "markdown",
      "source": [
        "###Naive-Bayes"
      ],
      "metadata": {
        "id": "LV2DROhuE_5a"
      }
    },
    {
      "cell_type": "code",
      "source": [
        "#random numpy\n",
        "SEED = 52394920\n",
        "np.random.seed(SEED)\n",
        "\n",
        "#split train and test\n",
        "raw_treino_x, raw_teste_x, treino_y, teste_y = train_test_split(x, y, test_size = 0.25,stratify = y)\n",
        "print(\"Treinaremos com %d elementos e testaremos com %d elementos\" % (len(raw_treino_x), len(raw_teste_x)))\n",
        "\n",
        "#defines model\n",
        "modelo = GaussianNB()\n",
        "modelo.fit(raw_treino_x,treino_y)\n",
        "\n",
        "#evaluates acurracy and f1 score\n",
        "y_pred = modelo.predict(raw_teste_x)\n",
        "acuracia = accuracy_score(y_pred, teste_y)\n",
        "f1 = f1_score(y_pred,teste_y, average=\"weighted\")\n",
        "\n",
        "print(\"A acurácia foi %.2f%%\" % (100*acuracia))\n",
        "print(\"F1 Score: %.2f%%\" % (100*f1))"
      ],
      "metadata": {
        "id": "J09o1QEnFN4F",
        "colab": {
          "base_uri": "https://localhost:8080/"
        },
        "outputId": "4d8796f3-14e7-48be-b9dc-6f7f3e822023"
      },
      "execution_count": null,
      "outputs": [
        {
          "output_type": "stream",
          "name": "stdout",
          "text": [
            "Treinaremos com 5122 elementos e testaremos com 1708 elementos\n",
            "A acurácia foi 73.89%\n",
            "F1 Score: 73.30%\n"
          ]
        },
        {
          "output_type": "stream",
          "name": "stderr",
          "text": [
            "/usr/local/lib/python3.10/dist-packages/sklearn/utils/validation.py:1143: DataConversionWarning: A column-vector y was passed when a 1d array was expected. Please change the shape of y to (n_samples, ), for example using ravel().\n",
            "  y = column_or_1d(y, warn=True)\n"
          ]
        }
      ]
    },
    {
      "cell_type": "markdown",
      "source": [
        "###Choose best Decision Tree Classifier's parameters with GridSearchCV"
      ],
      "metadata": {
        "id": "AGZMHZykU7P7"
      }
    },
    {
      "cell_type": "code",
      "source": [
        "SEED = 301\n",
        "np.random.seed(SEED)\n",
        "\n",
        "#defines the grid of the parameters\n",
        "parameters_grid = {\"max_depth\": [i for i in range(1,6)],\n",
        "                   \"min_samples_leaf\":[32*i for i in range(1,6)],\n",
        "                   \"min_samples_split\":[32*i for i in range(1,6)],\n",
        "                   \"criterion\":[\"gini\",\"entropy\"]}\n",
        "\n",
        "\n",
        "#find the best parameters of tree decision classifier model\n",
        "busca = GridSearchCV(estimator = DecisionTreeClassifier(),\n",
        "                     param_grid = parameters_grid,\n",
        "                     cv = KFold(n_splits = 5,shuffle = True))\n",
        "\n",
        "#best paremeters\n",
        "busca.fit(x,y)\n",
        "resultados = pd.DataFrame(busca.cv_results_)\n",
        "print('Best parameters:',busca.best_params_)\n",
        "print('Best score:',busca.best_score_)"
      ],
      "metadata": {
        "colab": {
          "base_uri": "https://localhost:8080/"
        },
        "id": "SeKc6MalU8Ux",
        "outputId": "ed31f6bb-6d26-4aa5-8699-0ce9d7f08d38"
      },
      "execution_count": null,
      "outputs": [
        {
          "output_type": "stream",
          "name": "stdout",
          "text": [
            "Best parameters: {'criterion': 'gini', 'max_depth': 5, 'min_samples_leaf': 32, 'min_samples_split': 32}\n",
            "Best score: 0.7535871156661786\n"
          ]
        }
      ]
    },
    {
      "cell_type": "markdown",
      "source": [
        "###Implement Decision Tree Classifier"
      ],
      "metadata": {
        "id": "KQIlof0zs-9q"
      }
    },
    {
      "cell_type": "code",
      "source": [
        "SEED = 52394920\n",
        "np.random.seed(SEED)\n",
        "raw_treino_x, raw_teste_x, treino_y, teste_y = train_test_split(x, y, test_size = 0.25,stratify = y)\n",
        "print(\"Treinaremos com %d elementos e testaremos com %d elementos\" % (len(raw_treino_x), len(raw_teste_x)))\n",
        "\n",
        "modelo = DecisionTreeClassifier(criterion = \"gini\",max_depth = 5, min_samples_leaf = 32, min_samples_split = 32)\n",
        "modelo.fit(raw_treino_x, treino_y)\n",
        "previsoes = modelo.predict(raw_teste_x)\n",
        "\n",
        "acuracia = accuracy_score(teste_y, previsoes) * 100\n",
        "print(\"A acurácia foi %.2f%%\" % acuracia)\n"
      ],
      "metadata": {
        "colab": {
          "base_uri": "https://localhost:8080/"
        },
        "id": "YtaWyAiwtHPJ",
        "outputId": "8630128a-2e04-4f56-e67d-2d4cfa0c6f5b"
      },
      "execution_count": null,
      "outputs": [
        {
          "output_type": "stream",
          "name": "stdout",
          "text": [
            "Treinaremos com 5122 elementos e testaremos com 1708 elementos\n",
            "A acurácia foi 75.94%\n"
          ]
        }
      ]
    },
    {
      "cell_type": "markdown",
      "source": [
        "### Interface do Usuário"
      ],
      "metadata": {
        "id": "fDKMYGiaQx13"
      }
    },
    {
      "cell_type": "code",
      "source": [
        "#input your information in the dictionary\n",
        "dictionary_input = {\n",
        " 'SeniorCitizen': [0],\n",
        " 'Monthly': [1.3],\n",
        " 'payment_Bank transfer (automatic)': [0],\n",
        " 'payment_Credit card (automatic)': [0],\n",
        " 'payment_Electronic check': [1],\n",
        " 'payment_Mailed check': [0],\n",
        " 'InternetService': [1],\n",
        " 'OnlineSecurity': [0],\n",
        " 'DeviceProtection': [1],\n",
        " 'Partner': [0]\n",
        " }\n",
        "\n",
        "#predict of model\n",
        "dataframe_input = pd.DataFrame(dictionary_input)\n",
        "previsoes_input = modelo.predict(dataframe_input)"
      ],
      "metadata": {
        "id": "M64iLd7e1Yk9"
      },
      "execution_count": null,
      "outputs": []
    }
  ]
}